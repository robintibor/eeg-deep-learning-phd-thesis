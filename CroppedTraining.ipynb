{
 "cells": [
  {
   "cell_type": "markdown",
   "id": "88575c19",
   "metadata": {},
   "source": [
    "(cropped-training)=\n",
    "# Cropped Training"
   ]
  },
  {
   "cell_type": "markdown",
   "id": "6dbbe04e",
   "metadata": {},
   "source": [
    "```{admonition}  Cropped training means training on many temporal windows within one input example \n",
    "* Greatly increases the number of training examples\n",
    "* Can be made computationally efficient by avoiding redundant computations\n",
    "```"
   ]
  },
  {
   "cell_type": "markdown",
   "id": "384141f6",
   "metadata": {},
   "source": [
    "In this chapter, we describe a training strategy called \"cropped training\" which addresses the problem of the relatively low number of training examples in typical EEG datasets. The goal of this strategy is to improve the performance of deep networks by training them on many sliding temporal windows within the data. This approach had been similarly used as spatial cropping in computer vision, where networks are trained on multiple cropped versions of images. We first describe the concept of regular, non-cropped training and then introduce cropped training on a conceptual level. Finally, we discuss how to implement this approach efficiently. Our aim is to demonstrate the effectiveness and computational efficiency of cropped training as a regularization technique for deep networks on EEG data.\n",
    "\n",
    "Cropped training for EEG decoding was developed by me in the context of this thesis. Some text and figures are adapted from from {cite}`schirrmeisterdeephbm2017`."
   ]
  },
  {
   "cell_type": "markdown",
   "id": "23bd92cf",
   "metadata": {},
   "source": [
    "## Non-Cropped/Trialwise Training"
   ]
  },
  {
   "cell_type": "markdown",
   "id": "ea989bf7",
   "metadata": {
    "tags": [
     "remove-cell"
    ]
   },
   "source": [
    "![title](images/trialwise_explanation.png)"
   ]
  },
  {
   "cell_type": "markdown",
   "id": "e72ba0db",
   "metadata": {},
   "source": [
    "```{figure} images/trialwise_explanation.png\n",
    "---\n",
    "name: trialwise-figure\n",
    "---\n",
    "Trialwise training example. An entire single trial is fed through the network and the network's prediction is compared to the trial target to train the network.\n",
    "```"
   ]
  },
  {
   "cell_type": "markdown",
   "id": "bfd11966",
   "metadata": {},
   "source": [
    "In the trialwise training of neural networks on EEG data, each example consists of the EEG signals from a single trial and its corresponding label. This might for example be a 4-second-trial where a subject moved the left hand, with the 4-second-signal as the input and the left hand as a label. Due to the typically small size of EEG datasets, networks trained in this way may only be trained on a few hundred to a few thousand examples per subject. This is significantly fewer examples than those used to train networks in computer vision, where tens of thousands or even millions of images are commonly used."
   ]
  },
  {
   "cell_type": "markdown",
   "id": "9b89e740",
   "metadata": {},
   "source": [
    "## Cropped Training"
   ]
  },
  {
   "cell_type": "markdown",
   "id": "e838991d",
   "metadata": {
    "tags": [
     "remove-cell"
    ]
   },
   "source": [
    "![title](images/cropped_explanation.png)"
   ]
  },
  {
   "cell_type": "markdown",
   "id": "b5bedc86",
   "metadata": {},
   "source": [
    "```{figure} images/cropped_explanation.png\n",
    "---\n",
    "name: cropped-figure\n",
    "---\n",
    "Cropped training example. A compute window contains many temporal windows (crops) inside that are used as individual examples to train the network.\n",
    "```"
   ]
  },
  {
   "cell_type": "markdown",
   "id": "dc86e45c",
   "metadata": {},
   "source": [
    "Cropped training increases the number of training examples by training on many crops, i.e., temporal windows, within the trial.  For example, in a 4-second trial, all possible 2-second windows within the trial could be used as \"independent\" examples. This  approach drastically increases the number of training examples, although many of the examples are highly overlapping. This can be seen as an extreme version of using random crops of images which is a method used to train deep networks in computer vision. A naive implementation of cropped training would greatly increase the computational cost per epoch due to the highly increased number of examples. Thankfully, the high overlap between neighbouring crops can be exploited for a more efficient implementation."
   ]
  },
  {
   "cell_type": "markdown",
   "id": "6a886f23",
   "metadata": {
    "tags": []
   },
   "source": [
    "## Computationally Faster Cropped Training"
   ]
  },
  {
   "cell_type": "markdown",
   "id": "1904580f",
   "metadata": {
    "tags": [
     "remove-cell"
    ]
   },
   "source": [
    "![title](images/Multiple_Prediction_Matplotlib_Graphics.ipynb.2.png)"
   ]
  },
  {
   "cell_type": "markdown",
   "id": "864636cd",
   "metadata": {},
   "source": [
    "```{figure} images/Multiple_Prediction_Matplotlib_Graphics.ipynb.2.png\n",
    "---\n",
    "name: cropped-naive-computation-figure\n",
    "---\n",
    "Naive cropped training toy example. Each possible length-5 crop is taken from the original length-7 trial and independently processed by the Conv-Conv-Linear projection network. All filter values of the network are assumed to be ones. Each crop is processed independently. The values in red are identical and unnecessarily computed independently for each crop.  Figure from {cite}`schirrmeisterdeephbm2017`.\n",
    "```"
   ]
  },
  {
   "cell_type": "markdown",
   "id": "1b38f742",
   "metadata": {
    "tags": [
     "remove-cell"
    ]
   },
   "source": [
    "![title](images/Multiple_Prediction_Matplotlib_Graphics.ipynb.3.png)"
   ]
  },
  {
   "cell_type": "markdown",
   "id": "79dcac48",
   "metadata": {},
   "source": [
    "```{figure} images/Multiple_Prediction_Matplotlib_Graphics.ipynb.3.png\n",
    "---\n",
    "name: cropped-efficient-computation-figure\n",
    "width: 50%\n",
    "---\n",
    "Efficient cropped training. Each possible length-5 crop is taken from the original length-7 trial and processed simultaneously by the Conv-Conv-Linear projection network, whilce still yielding the same results as if processed independently ({numref}`cropped-efficient-computation-figure`). All filter values of the network are assumed to be ones. Figure from {cite}`schirrmeisterdeephbm2017`.\n",
    "```"
   ]
  },
  {
   "cell_type": "markdown",
   "id": "fbb0d299",
   "metadata": {},
   "source": [
    "Cropped training can be implemented with substantially less computations by exploiting that highly overlapping crops result in highly overlapping intermediate network activations. By passing a group of neighbouring crops together to the network, we can reuse intermediate computations. See {numref}`cropped-naive-computation-figure` and  {numref}`cropped-efficient-computation-figure` for a concrete example of this speedup method. This idea had been used in the same way for dense predictions on images, e.g. for segmentation {cite}`giusti_fast_2013,nasse_face_2009,sermanet_overfeat:_2013,shelhamer_fully_2016`."
   ]
  },
  {
   "cell_type": "markdown",
   "id": "9404e95d",
   "metadata": {},
   "source": [
    "Efficient cropped training then results in the exact same predictions and training as if the neighbouring crops were passed separately through the network. This is only true for networks that either use left-padding or no padding at all to the input and the intermediate activations. In the deep and shallow network described here, we do not use any padding. In the residual network, we use padding, hence the training is not exactly identical to passing neighbouring crops separately, but we still found it to improve over trial-wise training."
   ]
  },
  {
   "cell_type": "markdown",
   "id": "f584b838",
   "metadata": {},
   "source": [
    "The more efficient way to do cropped training introduces a new hyperparameter, the number of neighbouring crops that are decoded together. The larger this hyperparameter, the more computations are saved and the more speedup one gets (see {cite}`giusti_fast_2013` for a more detailed speedup analysis on images). Larger numbers of neighbouring crops to simultaneously train on require more memory and may also affect the training dynamics due to more neighbouring crops being in the same mini-batch. However, we did not find negative effects on the training dynamics from larger number of simultaneously decoded neighbouring crops, consistent with prior work in computer vision {cite}`shelhamer_fully_2016`."
   ]
  },
  {
   "cell_type": "markdown",
   "id": "5574032f",
   "metadata": {},
   "source": [
    "```{admonition} Open Questions\n",
    ":class: tip\n",
    "* For which datasets and architectures does cropped training help or hurt?\n",
    "```"
   ]
  }
 ],
 "metadata": {
  "kernelspec": {
   "display_name": "Python 3 (ipykernel)",
   "language": "python",
   "name": "python3"
  },
  "language_info": {
   "codemirror_mode": {
    "name": "ipython",
    "version": 3
   },
   "file_extension": ".py",
   "mimetype": "text/x-python",
   "name": "python",
   "nbconvert_exporter": "python",
   "pygments_lexer": "ipython3",
   "version": "3.9.7"
  }
 },
 "nbformat": 4,
 "nbformat_minor": 5
}
