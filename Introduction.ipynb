{
 "cells": [
  {
   "cell_type": "markdown",
   "metadata": {},
   "source": [
    "(introduction)=\n",
    "# Introduction"
   ]
  },
  {
   "cell_type": "markdown",
   "metadata": {},
   "source": [
    "```{admonition} Machine learning can be used for medical applications \n",
    "* ML can extract different information from biophysiological signals then humans are able to\n",
    "* Applications include assistive technology, diagnosis and scientific discovery\n",
    "  * Assistive technology requires to quickly extract of information about a persons intention\n",
    "  * Diagnosis requires to extract information about pathologies and combine it with human knowledge\n",
    "     * Early-warning requires to quickly extract information from large amounts of continously arriving signals \n",
    "  * Scientific discovery requires understanding what novel information the ML model has extracted\n",
    "```\n",
    "% (diagnosis potentially most complicated overall application)\n",
    "% note first allowed medical AI in US with stroke thingy, and note even if we do not have early warning (maybe we have w/ epilepsy?)\n"
   ]
  },
  {
   "cell_type": "markdown",
   "metadata": {},
   "source": [
    "```{admonition} Brain signals are interesting for medical ML\n",
    "* Can allow decoding of intention \"at source\"\n",
    "* Allow a lot of diagnoses\n",
    "* Also brain very complicated, and new things may be discovered \n",
    "```\n"
   ]
  },
  {
   "cell_type": "markdown",
   "metadata": {},
   "source": [
    "```{admonition} EEG has useful properties for ML analysis\n",
    "* Cheap to acquire, widely available\n",
    "* No side effects\n",
    "* Hard to interpret for humans\n",
    "* Some applications limited by accuracies achieved so far\n",
    "  * BCI, diagnosis, scientific discovery\n",
    "```\n"
   ]
  },
  {
   "cell_type": "markdown",
   "metadata": {},
   "source": [
    "```{admonition} Deep learning is an interesting approach for EEG\n",
    "* Can exploit large data well\n",
    "* Proven to work well on diversity of natural signals\n",
    "* Flexible models/little inductive bias\n",
    "```\n",
    "\n",
    "```{admonition} Deep learning is a challenging approach for EEG\n",
    "* Unknown if it is really better than feature-based approaches\n",
    "* Unknown how much information can really be extracted from EEG\n",
    "* Limited understanding of EEG signal also limits understanding of DL EEG models\n",
    "```\n",
    "\n",
    "| Chapter    | Findings    |\n",
    "| :--- | ---: |\n",
    "| [Prior Work](prior-work)   | Prior to 2017, research did not clearly show how competitive deep learning is compared with well-optimized feature baselines   |\n",
    "| [Task-Related Decoding](task-related)   | Deep learning can be at least as good as strong feature-based baselines for task-related decoding; deep networks also learn to extract known hand-engineered features|\n",
    "| [Decoding Pathology](pathology)  | Deep networks designed for task-related decoding can also decode pathology well  |\n",
    "| [Further Deep Learning Improvements](dl-improvements)   | Deep learning improvements from other domains partially carry over to EEG decoding    |\n",
    "| [Back to Features - a Comparison](feature-comparison)   | Well-optimized feature baselines remain competitive with deep learning    |\n",
    "| [Future Work](future-work)   | Newer DL architectures such as transformers or invertible networks may allow better performance and better interpretability   |\n",
    "\n"
   ]
  }
 ],
 "metadata": {
  "kernelspec": {
   "display_name": "Python 3",
   "language": "python",
   "name": "python3"
  },
  "language_info": {
   "codemirror_mode": {
    "name": "ipython",
    "version": 3
   },
   "file_extension": ".py",
   "mimetype": "text/x-python",
   "name": "python",
   "nbconvert_exporter": "python",
   "pygments_lexer": "ipython3",
   "version": "3.7.5"
  }
 },
 "nbformat": 4,
 "nbformat_minor": 4
}
