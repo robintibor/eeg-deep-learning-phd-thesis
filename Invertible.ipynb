{
 "cells": [
  {
   "cell_type": "markdown",
   "id": "847ddbb5",
   "metadata": {},
   "source": [
    "(invertible-networks)=\n",
    "# Invertible Networks"
   ]
  },
  {
   "cell_type": "markdown",
   "id": "77dff48f-5b2f-4c24-b5eb-7498f80b4a23",
   "metadata": {},
   "source": [
    "Invertible networks are networks that are invertible by design, i.e., any network output can be mapped back to a corresponding input [refs] bijectively. The ability to invert any output back to the input enables different interpretability methods and furthermore allows training invertible networks as generative models via maximum likelihood. \n",
    "\n",
    "This chapter starts by explaining invertible layers that are used to design invertible networks, proceeds to detail training methodologies for invertible networks as generative models or classifiers, and goes on to outline interpretability techniques that help reveal the learned features crucial for their classification tasks. \n",
    "$\\require{color}$\n",
    "$\\definecolor{commentcolor}{RGB} {70,130,180}$"
   ]
  },
  {
   "cell_type": "markdown",
   "id": "9615b982-18cb-4f90-b0be-6c083ddb80d4",
   "metadata": {},
   "source": [
    "## Invertible Layers"
   ]
  },
  {
   "cell_type": "markdown",
   "id": "b6438331-1b53-4fd8-9de4-0f4f5f9feef2",
   "metadata": {},
   "source": [
    "Invertible networks use layers constructed specifically to maintain invertibility, thereby rendering the entire network structure invertible. Often-used invertible layers are coupling layers, invertible linear layers and activation normalization layers.\n",
    "\n",
    "**Coupling layers** split a multidimensional input $x$ into two parts  $x_1$ and $x_2$ with disjoint dimensions and then use $x_2$ to compute an invertible transformation for $x_1$. Concretely, for an additive coupling layer, the forward computation is:\n",
    "\n",
    "$\n",
    "\\begin{align*}\n",
    "    y_1 &= x_1 + f(x_2) && \\color{commentcolor}{\\text{Compute } y_1 \\text{ from } x_1 \\text{ and arbitrary function f of } x_2} \\\\\n",
    "    y_2 &= x_2 && \\color{commentcolor}{\\text{Leave } x_2 \\text{ unchanged}} \\\\\n",
    "\\end{align*}\n",
    "$\n",
    "\n",
    "The inverse computation is:\n",
    "\n",
    "$\n",
    "\\begin{align*}\n",
    "    x_1 &= y_1 - f(y_2) && \\color{commentcolor}{\\text{Invert to } x_1 \\text{ using unchanged } y_2=x_2} \\\\\n",
    "    x_2 &= y_2 &&  \\color{commentcolor}{x_2 \\text{ was unchanged}}\\\\\n",
    "\\end{align*}\n",
    "$\n",
    "\n",
    "\n",
    "For the splitting of the dimensions in a timeseries, there are multiple ways, such as using the even time indices as $x_1$ and all the odd time indices as $x_2$ or using difference and mean between two neighbouring samples (akin to one stage of a Haar Wavelet). The function $f$ is usually implemented by a neural network, in our cases it will be small convolutional networks. Instead of addition any other invertible function can be used, affine transformation are commonly used, where $f$ produces translation and scaling coefficients $f_t$ and $f_s$:\n",
    "\n",
    "$\n",
    "\\begin{align*}\n",
    "    y_1 &= x_1 \\cdot f_s(x_2) + f_t(x_2) && \\text{ } y_2=x_2 && \\color{commentcolor}{\\text{Affine Forward }} \\\\\n",
    "    \\\\\n",
    "    x_1 &= \\frac{(y_1  - f_t(y_2))}{f_s(y_2)} && \\text{ } x_2=y_2 && \\color{commentcolor}{\\text{Affine Inverse}} \\\\\n",
    "\\end{align*}\n",
    "$\n",
    "\n",
    "\n",
    "**Invertible linear layers** compute an invertible linear transformation (an automorphism) of their input. Concretely they multiply a $d$-dimensional vector $\\mathbf{x}$ with a $dxd$-dimensional matrix $W$, where $W$ has to be invertible, i.e., have nonzero determinant. \n",
    "\n",
    "$\n",
    "\\begin{align*}\n",
    "    y&=W \\mathbf{x} && \\color{commentcolor}{\\text{Linear Forward }} \\\\\n",
    "    x&=W^{-1} \\mathbf{y} && \\color{commentcolor}{\\text{Linear Inverse}} \\\\\n",
    "\\end{align*}\n",
    "$\n",
    "\n",
    "For multidimensional arrays like feature maps in a convolutional network, these linear transformations are usually done per-position, as so-called invertible 1x1 convolutions in the 2d case.\n",
    "\n",
    "**Activation normalization layers** perform an affine transformation with learned parameters with $s$ and $t$ learned scaling and translation parameters (independent of the input $x$):\n",
    "\n",
    "$\n",
    "\\begin{align*}\n",
    "    y&=x \\cdot{s} + t && \\color{commentcolor}{\\text{ActNorm Forward }} \\\\\n",
    "    x&=\\frac{y - t}{s} && \\color{commentcolor}{\\text{ActNorm Inverse}} \\\\\n",
    "\\end{align*}\n",
    "$\n",
    " \n",
    " These have also been used to replace batch normalization and are often initialized data-dependently to have standard-normalized activations at the beginning of training.\n",
    "\n"
   ]
  },
  {
   "cell_type": "markdown",
   "id": "bded14d4-187c-4395-b8b4-95331126d87f",
   "metadata": {},
   "source": [
    "## Generative models via maximum likelihood"
   ]
  },
  {
   "cell_type": "markdown",
   "id": "94c8a4f5-6776-419a-9a1e-a2f1af8638e7",
   "metadata": {},
   "source": [
    "Invertible networks can also be trained as generative models via maximum likelihood. In maximum likelihood training, the network is optimized to maximize the probabilities of the training inputs. Invertible networks assign probabilities to training inputs by mapping them to a latent space and computing their probabilities under a predefined prior in that latent space. However, for real-valued inputs, one has to account for quantization and volume change to ensure this results in a proper probability distribution in the input space. Quantization  refers to the fact that training data often consists of quantized measureuements of underlying continuous data, e.g. digital images can only represent a distinct set of color values. Volume change refers to how the invertible networks' mapping function expands or squeezes volume from input space to latent space."
   ]
  },
  {
   "cell_type": "markdown",
   "id": "d7010660-dc52-4179-bca5-39b613267f25",
   "metadata": {},
   "source": [
    "### (De)quantization"
   ]
  },
  {
   "cell_type": "markdown",
   "id": "190f3846-bd95-48fb-9972-f882234981c5",
   "metadata": {
    "tags": [
     "remove-cell"
    ]
   },
   "source": [
    "![](images/dequantization.png)"
   ]
  },
  {
   "cell_type": "markdown",
   "id": "0899d0b2-697c-40c4-9ab0-495c6bd733fb",
   "metadata": {},
   "source": [
    "```{figure} images/dequantization.png\n",
    "---\n",
    "name: dequantization-fig\n",
    "---\n",
    "**Density-maximizing distributions without and with dequantization.** Examples show result of fitting  quantized values like discrete integer color values with a continuous probability distribution. Example training distributions have 3 data points at $x_1=1$, $x_2=2$ and $x_3=5$. On the left, fitting quantized values directly leads to a pathological solution as the learned distribution $p$ can assign arbitrarily high probability densities on the data points. On the right, adding uniform noise $U(0,1)$ to the datapoints leads to a distribution that also recovers the correct discrete distribution, that means integrating over the probability densities in the volume of each point leads to $P(x_i)=\\frac{1}{3}$.\n",
    "```"
   ]
  },
  {
   "cell_type": "markdown",
   "id": "e3f68360-25ba-45aa-828f-fa893875b67c",
   "metadata": {},
   "source": [
    "Often, training data for neural networks consists of quantized measurements like discrete integer color values from 0 to 255, which are mapped to real-world floating point numbers for training. Naively maximizing the probability densities of these quantized values with a continuous probability distribution would lead to pathological behavior as the quantized training data points do not cover any volume. Hence it would be possible for the learned distribution to assign infinitely high probability densities to individual data points, see {numref}`dequantization-fig` on the left side.\n",
    "\n",
    "Todo (this ref): As an example, given a gaussian mixture distribution with two components, one component may cover all the training points with nonzero densities while the other one could assign infinitely high densities to one single point [mackay ref?]. \n",
    "\n",
    "Hence, one needs to \"dequantize\" the data such that each datapoint occupies volume in the input space. The simplest way here is to add uniform noise to each data point with a volume corresponding to the gap between two data points. For example, if the 256 color values are mapped to 256 floating values between 0 and 1, one may add uniform noise  $u\\sim(0,\\frac{1}{256})$ to the inputs. If a new noise sample is drawn for each new forward pass of the network, then optimizing the resulting continuous distribution lower bounds optimizing the original discrete distribution [ref]. TODO: correct a bit maybe, like what is lower bounding what and ref also. maybe also formula \n",
    "Since in our case, we are not primarily interested in the exact performance as generative model in number of bits, we simply add gaussian noise with a fixed small standard deviation $N(0,0.005I)$ during training. "
   ]
  },
  {
   "cell_type": "markdown",
   "id": "5d368eef-ea94-4896-b4de-d7423fecacd5",
   "metadata": {},
   "source": [
    "### Volume Change"
   ]
  },
  {
   "cell_type": "markdown",
   "id": "6d52a72d-7807-4935-a7aa-d293ad0d7ace",
   "metadata": {
    "tags": [
     "remove-cell"
    ]
   },
   "source": [
    "![](images/change-of-volume.png)"
   ]
  },
  {
   "cell_type": "markdown",
   "id": "bc0256f4-f3bf-498c-a16b-8f2eaeca49d2",
   "metadata": {},
   "source": [
    "```{figure} images/change-of-volume.png\n",
    "---\n",
    "name: change-of-volume-fig\n",
    "---\n",
    "**Computing probability densities accounting for volume changes by a function.** Input $x$ with probability distribution $p_\\text{in}(x)$ on the left is scaled by 0.5 to $z=f(x)=0.5x$ with probability distribution $p_\\text{out}(z)$ on the right. Naively integrating $p_\\text{out}(f(x))$ over x would lead to a non-valid probability distribution with $\\int_x p_\\mathrm{out}(f(x)) \\, dx=2$. To get the prober probability densities in input space from $p_\\text{out}(z)$, one has to multiply with the volume changes, in this case the scaling factor of the mapping $f(x)$ from x to z, giving $p_\\text{in}(x)=p_\\mathrm{out}(f(x)) \\cdot \\frac{df}{dx}=p_\\mathrm{out}(f(x))\\cdot 0.5$ which correctly integrates to 1.\n",
    "```"
   ]
  },
  {
   "cell_type": "markdown",
   "id": "0ea74ac7-0c61-4967-a6c2-9aa2ee603ed0",
   "metadata": {},
   "source": [
    "In addition, for these probability densities to form a valid probability distribution in the input space, one has to account for how much the network's mapping function squeezes and expands volume Otherwise, the network can increase densities by squeezing all the inputs closely together in latent space, see also {numref}`change-of-volume-fig` for a onedimensional example.\n",
    "To correctly account for the volume change during the forward pass of $f$ one needs to multiply the probability density with the volume change of $f$, descreasing the densities if the volume is squeezed from input to latent space and increasing it if the volume is expanded. As the volume change at a given point $x$ is given by the absolute determinant of the jacobian of f at that point  $\\det \\left( \\frac{\\partial \\mathbf{f}}{\\partial \\mathbf{x}} \\right)$, the overall formula looks like this:\n",
    "\n",
    "\n",
    "$p(x) = p_\\textrm{prior}(f(x)) \\cdot  | \\det \\left( \\frac{\\partial \\mathbf{f}}{\\partial \\mathbf{x}} \\right)|$\n",
    "\n",
    "Usually, one optimizes the log-densities, leading to:\n",
    "\n",
    "$\\log p(x) = \\log p_\\textrm{prior}(f(x)) \\cdot  + \\log |\\det \\left( \\frac{\\partial \\mathbf{f}}{\\partial \\mathbf{x}} \\right)|$"
   ]
  },
  {
   "cell_type": "markdown",
   "id": "1dd8335f-c18d-4f8c-aec9-34151135be79",
   "metadata": {},
   "source": [
    "## Generative classifiers"
   ]
  },
  {
   "cell_type": "markdown",
   "id": "10b2d33c-7201-44bc-8d36-f4248611b7da",
   "metadata": {},
   "source": [
    "Invertible networks trained as class-conditional generative models can also be used as classifiers. Class-conditional generative networks may be implemented in different ways, for example with a separate prior in latent space for each class. Given the class-conditional probability densities $p(x|c_i)$, one can obtain class probabilities via Bayes formula as $p(c_i|x)=\\frac{p(x|c_i)}{\\sum_jp(x|c_j)}$.\n",
    "\n",
    "Pure class-conditional generative training may not yield networks that perform well as classifiers. One proposed reason is the relatively small reduction in generative maximum likelihood loss obtainable from providing the class label to the network for high-dimensional inputs, for example much smaller than typical differences between two runs of the same network [REF]. How much one can reduce the loss through providing the class label can be derived from a compression perspective, so using that under Shannon's theorem more probable inputs need less bits to encode than less probable inputs, or more precisely $\\textrm{Number of bits needed}(x) = \\log_2 p(x)$. How many of these bits are needed for the class label in case it is not given? To distinguish between n classes, one needs only $\\log_2(n)$ bits, so in case of binary pathology classification, only 1 bit is needed. However, the inputs themselves typically need at least 1 bit per dimension, so already, a 21 channel x 128 timepoints EEG-signal may need at least 2688 bits to encode. Therefore the optimal class-conditional model will only be 1 bit better than the optimal class-independent model and contribute very little to the overall encoding size. In contrast, the loss difference between two training runs of the same network will typically be at least 1 to two orders of magnitude larger. In practice, the gains from using a class-conditional model, by e.g., using a separate prior per class in latent space, are usually larger, but it is not a priori clear if the reductions in loss from exploiting the class label are high enough to result in a good classification model.\n",
    "\n",
    "Various methods have been proposed to improve the performance of using generative classifiers. For example, people have fixed the per-class latent gaussian priors so that they retain the same distance throughout training [Ref Pavel] or added a classification loss term $L_\\textrm{class}(x,c_i)=-\\log p(c_i|x) = -\\log \\frac{p(x|ci)}{\\sum_j p(x|cj)}=-\\log \\frac{e^{\\log p(x|ci)}}{\\sum_j e^{\\log p(x|cj)}}$ to the training loss [Ref VIB heidelberg]. In our work, we experimented with adding a classification loss term to the training, and also found using a learned temperature before the softmax helps the training, so leading to:\n",
    "\n",
    "$\n",
    "\\begin{align*}\n",
    "   L_\\textrm{class}(x,c_i,t)&= -\\log \\frac{e^{\\frac{\\log p(x|ci)}{t}}}{\\sum_j e^{\\frac{\\log p(x|cj)}{t}}} \\\\\n",
    "\\end{align*}\n",
    "$"
   ]
  },
  {
   "cell_type": "markdown",
   "id": "95592866-22d8-4a2f-bdfb-d4cf22cd5dbf",
   "metadata": {},
   "source": [
    "## Invertible Network for EEG Decoding"
   ]
  },
  {
   "cell_type": "markdown",
   "id": "a51fdf07-c648-4c57-9913-a5673cb30fa9",
   "metadata": {
    "tags": [
     "remove-cell"
    ]
   },
   "source": [
    "![](images/EEG-InvNet.png)"
   ]
  },
  {
   "cell_type": "markdown",
   "id": "624e7e1f-e0d1-4c4f-b838-6362ea65b2bc",
   "metadata": {},
   "source": [
    "```{figure} images/EEG-InvNet.png\n",
    "---\n",
    "name: eeg-invnet-fig\n",
    "---\n",
    "**EEG-InvNet architecture**.\n",
    "```"
   ]
  },
  {
   "cell_type": "markdown",
   "id": "94e8614e-a6a4-4f03-ae38-fa49c405792b",
   "metadata": {},
   "source": [
    "We designed an invertible network for EEG Decoding using invertible components used in the literature, primarily from the Glow architecture [REF]. Our architecture consists of three stages that operate on sequentially lower temporal resolutions. Similar to glow, the individual stages consists of several blocks of Activation Normalization, Invertible Linear Channel Transformations and Coupling Layers. Between each stage, we downsample by computing the mean and difference of two neighbouring timepoints and moving these into the channel dimension. Unlike Glow, we keep processing all dimensions throughout all stages, finding this architecture to reach competitive accuracy on pathology decoding. We use one gaussian distribution per class in the latent space. We experimented with affine and additive coupling layers, and report results for additive layers as the restricted expressiveness may make them easier to interpret.\n",
    "\n",
    "[diagram]\n",
    "\n",
    "Our training loss is simply a weighted sum of generative loss and classification loss:\n",
    "\n",
    "\n",
    "$\n",
    "\\begin{align*}\n",
    "   L(x,c_i,t)&= L_\\textrm{class}(x,c_i,t) + L_\\textrm{gen}(x,c_i) &= -\\log \\frac{e^{\\frac{\\log p(x|ci)}{t}}}{\\sum_j e^{\\frac{\\log p(x|cj)}{t}}} - \\alpha \\log p(x|ci)\\\\\n",
    "\\end{align*}\n",
    "$\n",
    "\n",
    "where we choose the hyperparameter $\\alpha$ as the inverse of the number of dimensions $\\alpha=\\frac{1}{\\textrm{Number of dimensions of x}}$."
   ]
  },
  {
   "cell_type": "markdown",
   "id": "1603be59-2ca1-43c5-8397-1534adf27c06",
   "metadata": {},
   "source": [
    "## Prototypes"
   ]
  },
  {
   "cell_type": "code",
   "execution_count": null,
   "id": "692756ab-5313-44d8-b36b-b738f9fc2c9c",
   "metadata": {},
   "outputs": [],
   "source": [
    "# Figure prototype in latent space (maybe visualized as just two vectors?, then show prototypes of pathological/nonpathological"
   ]
  },
  {
   "cell_type": "markdown",
   "id": "6a0d8a7b-b2aa-4255-b8e2-c8e6fd221674",
   "metadata": {},
   "source": [
    "In our first visualization, we show the inputs resulting from inverting the means of the gaussian distributions for each class. These can be seen as prototypical examples of each class and may give hints as what discriminative features have been learned. As these are only single examples, they need to be interpreted cautiously. For example, individual patterns within the examples may have a variety of relationships with the actual prediction function. Consider if a prototype contains a large alpha-band oscillation at two electrodes, then these may be indepedendently predictive predictive of that class or only in combination or only in some combination with other features. Nevertheless, the prototypes can already reveal potential discriminative features for further investigation."
   ]
  },
  {
   "cell_type": "markdown",
   "id": "78153402-b152-4351-979f-29aecbad88b9",
   "metadata": {},
   "source": [
    "## Per-Electrode Prototypes"
   ]
  },
  {
   "cell_type": "markdown",
   "id": "9c69b07d-ceb6-41cc-bc13-9f286419a726",
   "metadata": {},
   "source": [
    "TODO: maybe show one example of T3 optimized electrode"
   ]
  },
  {
   "cell_type": "markdown",
   "id": "66b815ff-82b2-4a9d-9f98-c8fab7708c29",
   "metadata": {},
   "source": [
    "One way to get more interpetable prototypes is to synthesize them per electrode. Here, we synthesize a signal for a specific electrode $e_i$ such that the class prediction is high for one class, independent of the signals at the other electrodes. So for electrode $e_k$ and class $c_i$, we aim to optimize the signal $x^*_{e_i}$ by maximizing the marginals and $p(x^*_{e_k}|c_i)=\\int p(x|c_i;x_{e_k}=x^*_{e_k}) dx$ and $p(c_i|x^*_{e_k})=\\frac{p(x^*_{e_k}|c_i)}{\\sum_j p(x^*_{e_k}|c_j)}$. To approximate this, we sample signals of the training distribution and replace the signal the corresponding electrodes signal $x_{e_k}$ by the optimized $x^*_{e_k}$. As we sample the remaining electrodes signals from the full distribution and not from the actual conditional distribution $p(x|c_i;x_{e_k}=x^*_{e_k})$, this is only an approximation, but already able to yield insightful visualizations. In practice, when computing the approximation of the integral $\\int p(x|c_i;x_{e_k}=x^*_{e_k}$ from our log probabilities, we found it helpful to divide the log probabilities by the learned temperature of the classifier."
   ]
  },
  {
   "cell_type": "markdown",
   "id": "f4cfb47e-494a-41c6-880f-fc948685191e",
   "metadata": {},
   "source": [
    "## EEG CosNet"
   ]
  },
  {
   "cell_type": "markdown",
   "id": "0b231b4e-106a-4f11-abcf-3e3a79cf59f1",
   "metadata": {},
   "source": [
    "Finally, we also implemented a small convolutional network EEG-CosNet that we designed to be directly interpretable. We aimed to distill the trained EEG-InvNet into the EEG-CosNet by training the EEG-CosNet using the EEG-InvNet class probabilities as the targets for the classification loss $L_\\textrm{class}$. Our EEG-CosNet consists of just three steps:\n",
    "\n",
    "1. Linear spatial filtering\n",
    "2. Average of rolling absolute cosine similarity of spatially filtered signals with temporal filters, with one temporal filter per spatial filter\n",
    "3. Linear classification\n",
    "\n",
    "Steps 1 and 2 yield spatiotemporal patterns that can be visualized as waveforms and scalp plots, and that are weighted by the linear classifier for the respective classes. We chose cosine similarity to ensure that high output values correspond to spatially filtered signals that resemble the corresponding temporal filter. The linear operations in step 1 and 3 also allow to make the network's learned features even more interpretable through transforming the discriminative weights into generative patterns post-hoc by multiplying them with the covariance of the electrodes/averaged absolute cosine similarities, see for {cite:t}`haufe_interpretation_2014` for a discussion on this technique. We use 64 spatiotemporal filters with filters of length 64 corresponding to one second at 64 Hz.\n"
   ]
  }
 ],
 "metadata": {
  "kernelspec": {
   "display_name": "Python 3 (ipykernel)",
   "language": "python",
   "name": "python3"
  },
  "language_info": {
   "codemirror_mode": {
    "name": "ipython",
    "version": 3
   },
   "file_extension": ".py",
   "mimetype": "text/x-python",
   "name": "python",
   "nbconvert_exporter": "python",
   "pygments_lexer": "ipython3",
   "version": "3.9.7"
  }
 },
 "nbformat": 4,
 "nbformat_minor": 5
}
