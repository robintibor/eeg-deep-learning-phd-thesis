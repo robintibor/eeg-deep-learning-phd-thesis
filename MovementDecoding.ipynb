{
 "cells": [
  {
   "cell_type": "markdown",
   "metadata": {},
   "source": [
    "(movement-related)=\n",
    "# Decoding Movement-Related Brain Activity"
   ]
  },
  {
   "cell_type": "markdown",
   "metadata": {},
   "source": [
    "## Background and our Development Strategy"
   ]
  },
  {
   "cell_type": "markdown",
   "metadata": {},
   "source": [
    "```{admonition} Movement-related tasks are the most researched tasks in EEG decoding.\n",
    "* Many studies have been done on it before the advent of deep learning\n",
    "* Hence, good feature-based baselines exist\n",
    "```"
   ]
  },
  {
   "cell_type": "markdown",
   "metadata": {},
   "source": [
    "```{admonition} Most well-performing movement-intention-decoding methods have strong assumptions \n",
    "* They use knowledge about brain signals \n",
    "* Assume changes in amplitude of oscillations in specific frequency ranges predict the intention\n",
    "* These changes also are assumed to follow specific spatial patterns\n",
    "```"
   ]
  },
  {
   "cell_type": "markdown",
   "metadata": {},
   "source": [
    "[Explain background with beautiful pictures]"
   ]
  },
  {
   "cell_type": "markdown",
   "metadata": {},
   "source": [
    "```{admonition} We followed the strategy of iteratively relaxing these assumptions in our deep learning development\n",
    "* First, use a network that exactly embeds the strategies of FBCSP, simply train jointly\n",
    "* Then a \"shallow\" network with large kernel sizes, mean pooling and squared activation to easily extract slow amplitude changes\n",
    "* Then a \"deep\" network with smaller kernel sizes and activation functions as networks in computer vision for a more generic network\n",
    "```"
   ]
  },
  {
   "cell_type": "markdown",
   "metadata": {},
   "source": [
    "## Models Details"
   ]
  },
  {
   "cell_type": "markdown",
   "metadata": {},
   "source": [
    "### FBCSP Network"
   ]
  },
  {
   "cell_type": "markdown",
   "metadata": {},
   "source": [
    "### Shallow Network"
   ]
  },
  {
   "cell_type": "markdown",
   "metadata": {},
   "source": [
    "### Deep Network"
   ]
  },
  {
   "cell_type": "markdown",
   "metadata": {},
   "source": [
    "### FBCSP Baseline"
   ]
  },
  {
   "cell_type": "markdown",
   "metadata": {},
   "source": [
    "## Cropped Training"
   ]
  },
  {
   "cell_type": "markdown",
   "metadata": {},
   "source": [
    "## Design Choices"
   ]
  },
  {
   "cell_type": "markdown",
   "metadata": {},
   "source": [
    "## Results\n",
    "\n",
    "### FBCSP Network\n",
    "check master thesis\n",
    "explain why not checked further\n",
    "(OR JUST DO IT?)"
   ]
  },
  {
   "cell_type": "markdown",
   "metadata": {},
   "source": [
    "### Shallow And Deep Results"
   ]
  },
  {
   "cell_type": "markdown",
   "metadata": {},
   "source": [
    "as in paper"
   ]
  },
  {
   "cell_type": "markdown",
   "metadata": {},
   "source": [
    "## Design Choices etc."
   ]
  },
  {
   "cell_type": "code",
   "execution_count": null,
   "metadata": {},
   "outputs": [],
   "source": []
  },
  {
   "cell_type": "markdown",
   "metadata": {},
   "source": [
    "## visualizations\n",
    "\n",
    "* check what is actually used?\n",
    "* precise definition difficult\n",
    "\n",
    "* also note extra results on other datasets and why and also mention further papers task related\n",
    "\n",
    "* possibly comparison with current state"
   ]
  },
  {
   "cell_type": "markdown",
   "metadata": {},
   "source": [
    "## old - merge"
   ]
  },
  {
   "cell_type": "markdown",
   "metadata": {},
   "source": [
    "* unclear how good deep learning can be for task-related activity\n",
    "* important benchmark as many decode on this\n",
    "* our approach to evaluate\n",
    "* our benchmark method (copy FBCSP text)\n",
    "* "
   ]
  },
  {
   "cell_type": "markdown",
   "metadata": {},
   "source": []
  }
 ],
 "metadata": {
  "kernelspec": {
   "display_name": "Python 3",
   "language": "python",
   "name": "python3"
  },
  "language_info": {
   "codemirror_mode": {
    "name": "ipython",
    "version": 3
   },
   "file_extension": ".py",
   "mimetype": "text/x-python",
   "name": "python",
   "nbconvert_exporter": "python",
   "pygments_lexer": "ipython3",
   "version": "3.8.3"
  }
 },
 "nbformat": 4,
 "nbformat_minor": 4
}
