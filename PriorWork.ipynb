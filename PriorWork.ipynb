{
 "cells": [
  {
   "cell_type": "markdown",
   "metadata": {},
   "source": [
    "(prior-work)=\n",
    "# Prior Work"
   ]
  },
  {
   "cell_type": "markdown",
   "metadata": {},
   "source": [
    "```{admonition}  Prior to our work, research on deep-learning-based EEG decoding was limited\n",
    "* Few studies compared to published feature-based decoding results\n",
    "* Most EEG DL architectures had only 1-3 convolutional layers and included fully-connected layers with many parameters\n",
    "* Most work only considered very restricted frequency ranges\n",
    "* Most studies only compared few design choices and training strategies\n",
    "```"
   ]
  },
  {
   "cell_type": "markdown",
   "metadata": {},
   "source": [
    "Prior to 2017, when the first work presented in this thesis was published, there was only limited literature on EEG decoding with deep learning. In this chapter, I outline what decoding problems, input representations, network architectures, hyperparameter choices and visualizations were evaluated in prior work. This is based on the literature research that we presented in {cite:t}`schirrmeisterdeephbm2017`."
   ]
  },
  {
   "cell_type": "markdown",
   "metadata": {},
   "source": [
    "## Decoding Problems and Baselines"
   ]
  },
  {
   "cell_type": "markdown",
   "metadata": {},
   "source": [
    "```{table} **Decoding problems in deep-learning EEG decoding studies prior to our work.** Studies with published baseline compared their decoding results to an external baseline result published by other authors.\n",
    ":name: prior-work-tasks-table\n",
    "\n",
    "|  Decoding problem     | Number of studies  | With published baseline|\n",
    "|:------|:-------------------|:---------------------------------|\n",
    "|Imagined or Executed Movement|6|2|\n",
    "|Oddball/P300|5|1|\n",
    "|Epilepsy-related|4|2|\n",
    "|Music Rhythm|2|0|\n",
    "|Memory Performance/Cognitive Load|2|0|\n",
    "|Driver Performance|1|0|\n",
    "```"
   ]
  },
  {
   "cell_type": "markdown",
   "metadata": {},
   "source": [
    "The most widely studied decoding problems were movement-related decoding problems such as decoding which body part (hand, feet etc.) a person is moving or imagining to move (see {numref}`prior-work-tasks-table`). From the 19 studies we identified at the time, only 5 compared their decoding results to an external published baseline result, limiting the insights about deep-learning EEG decoding performance. We therefore decided to compare deep-learning EEG decoding to a strong feature-based baseline (see {ref}`fbscp-and-filterbank-net`) on widely researched movement-related decoding tasks."
   ]
  },
  {
   "cell_type": "markdown",
   "metadata": {},
   "source": [
    "## Input Domains and Frequency Ranges"
   ]
  },
  {
   "cell_type": "code",
   "execution_count": 64,
   "metadata": {
    "tags": [
     "hide-input",
     "remove-output"
    ]
   },
   "outputs": [
    {
     "data": {
      "image/png": "[encoded data removed]",
      "text/plain": [
       "<Figure size 576x144 with 1 Axes>"
      ]
     },
     "metadata": {
      "scrapbook": {
       "mime_prefix": "",
       "name": "input_domain_fig"
      }
     },
     "output_type": "display_data"
    }
   ],
   "source": [
    "import matplotlib\n",
    "import matplotlib.pyplot as plt\n",
    "from matplotlib import cm\n",
    "import seaborn\n",
    "import numpy as np\n",
    "import re\n",
    "from myst_nb import glue\n",
    "seaborn.set_palette('colorblind')\n",
    "seaborn.set_style('darkgrid')\n",
    "import re\n",
    "\n",
    "%matplotlib inline\n",
    "%config InlineBackend.figure_format = 'png'\n",
    "#matplotlib.rcParams['figure.figsize'] = (12.0, 1.0)\n",
    "matplotlib.rcParams['font.size'] = 14\n",
    "a = np.array(['Time,  8–30 Hz ', 'Time, 0.1–40 Hz ', 'Time, 0.05–15 Hz ',\n",
    "       'Time, 0.3–20 Hz ', 'Frequency, 6–30 Hz ', ' Frequency, 0–200 Hz ',\n",
    "       'Time,  1–50 Hz ', ' Time,  0–100 HZ ',\n",
    "       'Frequency, mean amplitude for 0–7 Hz, 7–14 Hz, 14–49 Hz ',\n",
    "       'Time, 0.5–50 Hz ', 'Time,  0–128 Hz ',\n",
    "       ' Frequency, mean power for 4–7 Hz, 8–13 Hz, 13–30 Hz ',\n",
    "       'Time, 0.5–30Hz ', 'Time, 0.1–50 Hz ',\n",
    "       'Frequency, 4–40 Hz, using FBCSP ',\n",
    "       ' Time and frequency evaluated, 0-200 Hz ', 'Frequency, 8–30 Hz ',\n",
    "       'Time, 0.15–200 Hz ', ' Time, 0.1-20 Hz '])\n",
    "domain_strings = [s.split(',')[0] for s in a]\n",
    "start_fs = [float(re.sub(r'[a-z ]+',r'', re.split(r'[–-–-]',\" \".join(s.split(',')[1:]))[0])) for s in a]\n",
    "end_fs = [float(re.sub(r'[a-z HZFBCSP]+',r'', re.split(r'[–-–-]',\" \".join(s.split(',')[1:]))[1])) for s in a]\n",
    "domain_strings = np.array(domain_strings)\n",
    "start_fs = np.array(start_fs)\n",
    "end_fs = np.array(end_fs)\n",
    "\n",
    "freq_mask = np.array(['freq' in s.lower() for s in domain_strings])\n",
    "time_mask = np.array(['time' in s.lower() for s in domain_strings])\n",
    "\n",
    "fig = plt.figure(figsize=(8,2))\n",
    "rng = np.random.RandomState(98349384)\n",
    "color = seaborn.color_palette()[0]\n",
    "i_sort = np.flatnonzero(time_mask)[np.argsort(end_fs[time_mask])]\n",
    "for i, (d,s,e) in enumerate(zip(\n",
    "        domain_strings[i_sort], start_fs[i_sort], end_fs[i_sort])):\n",
    "    offset = 0.8*i/len(i_sort) - 0.3\n",
    "    plt.plot([offset,offset] , [s, e], marker='o', alpha=1, color=color, ls='-')\n",
    "i_sort = np.flatnonzero(freq_mask)[np.argsort(end_fs[freq_mask])]\n",
    "for i, (d,s,e) in enumerate(zip(\n",
    "        domain_strings[i_sort], start_fs[i_sort], end_fs[i_sort])):\n",
    "    offset = 0.8*i/len(i_sort) + 0.7\n",
    "    plt.plot([offset,offset] , [s, e], marker='o', alpha=1, color=color, ls='-')\n",
    "\n",
    "plt.xlim(-0.4,1.5)\n",
    "plt.xlabel(\"Input domain\")\n",
    "plt.ylabel(\"Frequency [Hz]\")\n",
    "plt.xticks([0,1], [\"Time\", \"Frequency\"])#, rotation=45)\n",
    "plt.title(\"Input domains and frequency ranges in prior work\", y=1.05)\n",
    "plt.yticks([0,25,50,75,100,150,200])\n",
    "glue('input_domain_fig', fig)\n",
    "plt.savefig(\"images/input-domain-freq-ranges.png\", dpi=300, bbox_inches='tight')\n",
    "plt.close(fig)\n",
    "None"
   ]
  },
  {
   "cell_type": "markdown",
   "metadata": {},
   "source": [
    "```{glue:figure} input_domain_fig\n",
    "\n",
    "\n",
    "**Input domains and frequency ranges in prior work.** Grey lines represent frequency ranges of individual studies. Note that many studies only include frequencies below 50 Hz, some use very restricted ranges (alpha/beta band).\n",
    "```"
   ]
  },
  {
   "cell_type": "markdown",
   "metadata": {},
   "source": [
    "Deep networks can either decode directly from the time-domain EEG or process the data in the frequency domain, for example after a Fourier transformation. 12 of the prior studies used time-domain inputs, 6 used frequency-domain inputs and one used both. We decided to work directly in the time domain, as the deep networks should in principle be able to learn how to extract any needed spectral information from the time-domain input. \n",
    "\n",
    "Most prior studies that were working in the time domain only used frequencies below 50 Hz. We were interested in how well deep networks can also extract lesser-used higher-frequency components of the EEG signal. For that, we used a sampling rate of 250 Hz, which means we were able to analyze frequencies up to the Nyquist frequency of 125 Hz. As a suitable dataset where high-frequency information may help decoding, we included our high-gamma dataset in our study, since it was recorded specifically to allow extraction of higher-frequency (>50 Hz) information from scalp EEG {cite:p}`schirrmeisterdeephbm2017`."
   ]
  },
  {
   "cell_type": "markdown",
   "metadata": {},
   "source": [
    "## Network Architectures"
   ]
  },
  {
   "cell_type": "code",
   "execution_count": 41,
   "metadata": {
    "tags": [
     "hide-input",
     "remove-output"
    ]
   },
   "outputs": [
    {
     "data": {
      "image/png": "[encoded data removed]",
      "text/plain": [
       "<Figure size 576x216 with 1 Axes>"
      ]
     },
     "metadata": {
      "scrapbook": {
       "mime_prefix": "",
       "name": "layernum_fig"
      }
     },
     "output_type": "display_data"
    }
   ],
   "source": [
    "\n",
    "\n",
    "ls = np.array([' 2/2 ', ' 3/1 ', ' 2/2 ', ' 3/2 ', ' 1/1 ', ' 1/2 ', ' 1/3 ',\n",
    "       ' 1–2/2 ', ' 3/1 (+ LSTM as postprocessor) ', ' 4/3 ', ' 1-3/1-3 ',\n",
    "       ' 3–7/2 (+ LSTM or other temporal post-processing (see design choices)) ',\n",
    "       ' 2/1 ', ' 3/3 (Spatio-temporal regularization) ',\n",
    "       ' 2/2 (Final fully connected layer uses concatenated output by convolutionaland fully connected layers) ',\n",
    "       ' 1-2/1 ',\n",
    "       '2/0 (Convolutional deep belief network, separately trained RBF-SVM classifier) ',\n",
    "       ' 3/1 (Convolutional layers trained as convolutional stacked autoencoder with target prior) ',\n",
    "       ' 2/2 '])\n",
    "\n",
    "conv_ls = [l.split('/')[0] for l in ls]\n",
    "low_conv_ls = [int(re.split(r'[–-]', c)[0])for c in conv_ls]\n",
    "high_conv_ls = [int(re.split(r'[–-]', c)[-1])for c in conv_ls]\n",
    "low_conv_ls = np.array(low_conv_ls)[np.argsort(high_conv_ls)]\n",
    "high_conv_ls = np.array(high_conv_ls)[np.argsort(high_conv_ls)]\n",
    "dense_ls = [l.split('/')[1] for l in ls]\n",
    "low_dense_ls = [int(re.split(r'[–-]', c[:8])[0][:2])for c in dense_ls]\n",
    "high_dense_ls = [int(re.split(r'[–-]', c[:8])[-1][:2])for c in dense_ls]\n",
    "low_dense_ls = np.array(low_dense_ls)[np.argsort(high_dense_ls)]\n",
    "high_dense_ls = np.array(high_dense_ls)[np.argsort(high_dense_ls)]\n",
    "\n",
    "all_conv_ls = np.concatenate([np.arange(low_c, high_c+1) for low_c, high_c in zip(low_conv_ls, high_conv_ls)])\n",
    "all_dense_ls = np.concatenate([np.arange(low_c, high_c+1) for low_c, high_c in zip(low_dense_ls, high_dense_ls)])\n",
    "bincount_conv = np.bincount(all_conv_ls)\n",
    "bincount_dense = np.bincount(all_dense_ls)\n",
    "rng = np.random.RandomState(98349384)\n",
    "color = seaborn.color_palette()[0]\n",
    "fig = plt.figure(figsize=(8,3))\n",
    "for i_c, (low_c, high_c) in enumerate(zip(low_conv_ls, high_conv_ls)):\n",
    "    offset = -0.2 + i_c * 0.025\n",
    "    tried_cs = np.arange(low_c, high_c+1)\n",
    "    plt.plot([offset,] * len(tried_cs), tried_cs, marker='o', alpha=0.5, color=color, ls=':')\n",
    "    \n",
    "for i_c, n_c in enumerate(bincount_conv):\n",
    "    plt.scatter(0.4, i_c, color=color, s=n_c*20)\n",
    "    plt.text(0.535, i_c, str(n_c)+ \"x\", ha='left', va='center')\n",
    "\n",
    "for i_c, (low_c, high_c) in enumerate(zip(low_dense_ls, high_dense_ls)):\n",
    "    offset = 0.8 + i_c * 0.025\n",
    "    tried_cs = np.arange(low_c, high_c+1)\n",
    "    plt.plot([offset,] * len(tried_cs), tried_cs, marker='o', alpha=0.5, color=color, ls=':')\n",
    "    \n",
    "for i_c, n_c in enumerate(bincount_dense):\n",
    "    plt.scatter(1.4, i_c, color=color, s=n_c*20)\n",
    "    plt.text(1.535, i_c, str(n_c)+ \"x\", ha='left', va='center')\n",
    "\n",
    "plt.xlim(-0.25,1.65)\n",
    "plt.ylim(-0.5,7.5)\n",
    "plt.xlabel(\"Type of layer\")\n",
    "plt.ylabel(\"Number of layers\")\n",
    "plt.xticks([0,1], [\"Convolutional\", \"Dense\"])#, rotation=45)\n",
    "plt.yticks([1,2,3,4,5,6,7]);\n",
    "plt.title(\"Number of layers in prior works' architectures\", y=1.05)\n",
    "glue('layernum_fig', fig)\n",
    "plt.savefig(\"images/number-layers.png\", dpi=300, bbox_inches='tight')\n",
    "plt.close(fig)\n",
    "None"
   ]
  },
  {
   "cell_type": "markdown",
   "metadata": {},
   "source": [
    "```{glue:figure} layernum_fig\n",
    "\n",
    "\n",
    "**Number of layers in prior work.** Small grey markers represent individual architectures. Dashed lines indicate different number of layers investigated in a single study (e.g., a single study investigated 3-7 convolutional layers). Larger grey markers indicate sum of occurences of that layer number over all studies (e.g., 9 architectures used 2 convolutional layers). Note most architectures use only 1-3 convolutional layers.\n",
    "```"
   ]
  },
  {
   "cell_type": "markdown",
   "metadata": {},
   "source": [
    "The architectures used in prior work typically only included up to 3 layers, with only 2 studies considering more layers. As network architectures in other domains tend to be a lot deeper, we also evaluated architectures with a larger number of layers in our work. Several architectures from prior work also included fully-connected layers with larger number of parameters which had fallen out of favor in computer-vision deep-learning architectures due to their large compute and memory requirements with little accuracy benefit. Our architectures do not include traditional fully-connected layers with a large number of parameters."
   ]
  },
  {
   "cell_type": "markdown",
   "metadata": {},
   "source": [
    "## Hyperparameter Evaluations"
   ]
  },
  {
   "cell_type": "markdown",
   "metadata": {},
   "source": [
    "```{table} Design choices and training strategies that prior deep-learning EEG decoding studies had studies.\n",
    ":name: prior-work-design-choices-table\n",
    "\n",
    "| Study | Design choices| Training strategies |\n",
    "|:------|:------------|:---------------|\n",
    "|{cite}`lawhern_eegnet:_2016` | Kernel sizes  |   |\n",
    "|{cite}`sun_remembered_2016` | | Different time windows |\n",
    "|{cite}`tabar_novel_2017` | Addition of six-layer stacked autoencoder on ConvNet features <br> Kernel sizes | |\n",
    "| {cite}`liang_predicting_2016` | |Different subdivisions of frequency range <br>Different lengths of time crops <br>Transfer learning with auxiliary non-epilepsy datasets |\n",
    "|{cite}`hajinoroozi_eeg-based_2016` | Replacement of convolutional layers by restricted Boltzmann machines with slightly varied network architecture}| |\n",
    "|{cite}`antoniades_deep_2016` | 1 or 2 convolutional layers ||\n",
    "|{cite}`page_wearable_2016` | | Cross-subject supervised training, within-subject finetuning of fully connected layers |\n",
    "|{cite}`bashivan_learning_2016` | Number of convolutional layers <br>Temporal processing of ConvNet output by max pooling, temporal convolution, LSTM or temporal convolution + LSTM | |\n",
    "|{cite}`stober_learning_2016` | Kernel sizes | Pretraining first layer as convolutional autoencoder with different constraints |\n",
    "|{cite}`sakhavi_parallel_2015` | Combination ConvNet and MLP (trained on different features) vs. only ConvNet vs. only MLP | |\n",
    "|{cite}`stober_using_2014`  | Best values from automatic hyperparameter optimization: frequency cutoff, one vs two layers, kernel sizes, number of channels, pooling width | Best values from automatic hyperparameter optimization: learning rate, learning rate decay, momentum, final momentum |\n",
    "|{cite}`wang_deep_2013` | Partially supervised CSA | |\n",
    "|{cite}`cecotti_convolutional_2011` | Electrode subset (fixed or automatically determined) <br>Using only one spatial filter <br>Different ensembling strategies||\n",
    "```"
   ]
  },
  {
   "cell_type": "markdown",
   "metadata": {},
   "source": [
    "Prior work varied widely in their comparison of design choices and training strategies. 6 of the studies did not compare any design choices or  training strategy hyperparameters. The other 13 studies evaluated different hyperparameters, with the most common one the kernel size (see {numref}`prior-work-design-choices-table`). Only one study evaluated a wider range of hyperparameters {cite}`stober_using_2014`. To fill this gap, we compared a wider range of design choices and training strategies and specifically evaluated whether improvements of computer vision architecture design choices and training strategies also lead to improvements in EEG decoding."
   ]
  },
  {
   "cell_type": "markdown",
   "metadata": {},
   "source": [
    "## Visualizations"
   ]
  },
  {
   "cell_type": "markdown",
   "metadata": {},
   "source": [
    "```{table} Visualizations presented in prior work.\n",
    ":name: prior-work-visualizations-table\n",
    "| Study | Visualization type(s) | Visualization findings   |\n",
    "|:-------|:-----|:-----|\n",
    "|{cite}`sun_remembered_2016`| Weights (spatial)| Largest weights found over prefrontal and temporal cortex|\n",
    "|{cite}`manor_multimodal_2016` | Weights <br> Activations <br> Saliency maps by gradient | Weights showed typical P300 distribution <br>Activations were high at plausible times (300-500ms) <br>Saliency maps showed plausible spatio-temporal plots| \n",
    "|{cite}`tabar_novel_2017` | Weights (spatial + frequential) | Some weights represented difference of values of two electrodes on different sides of head|\n",
    "|{cite}`liang_predicting_2016` | Weights <br> Clustering of weights | Clusters of weights showed typical frequency band subdivision (delta, theta, alpha, beta, gamma)|\n",
    "|{cite}`antoniades_deep_2016` | Weights <br>Correlation weights and interictal epileptic discharges (IED) <br>Activations                        | Weights increasingly correlated with IED waveforms with increasing number of training iterations <br>Second layer captured more complex and well-defined epileptic shapes than first layer <br>IEDs led to highly synchronized activations for neighbouring electrodes |\n",
    "|{cite}`thodoroff_learning_2016` | Input occlusion and effect on prediction accuracy | Allowed to locate areas critical for seizure |\n",
    "|{cite}`george_single-trial_2016` | Weights (spatial) | Some filter weights had expected topographic distributions for P300 <br>Others filters had large weights on areas not traditionally associated with P300|\n",
    "|{cite}`bashivan_learning_2016` | Inputs that maximally activate given filter <br>Activations of these inputs <br>\"Deconvolution\" for these inputs | Different filters were sensitive to different frequency bands <br>Later layers had more spatially localized activations <br>Learned features had noticeable links to well-known electrophysiological markers of cognitive load <br> |\n",
    "|{cite}`stober_learning_2016` | Weights (spatial+3 timesteps, pretrained as autoencoder) | Different constraints led to different weights, one type of constraints could enforce weights that are similar across subjects; other type of constraints led to weights that have similar spatial topographies under different architectural configurations and preprocessings |\n",
    "|{cite}`manor_convolutional_2015` | Weights <br> Mean and single-trial activations | Spatiotemporal regularization led to softer peaks in weights <br>Spatial weights showed typical P300 distribution <br>Activations mostly had peaks at typical times (300-400ms) |\n",
    "|{cite}`cecotti_convolutional_2011` | Weights | Spatial filters were similar for different architectures <br>Spatial filters were different (more focal, more diffuse) for different subjects |\n",
    "```"
   ]
  },
  {
   "cell_type": "markdown",
   "metadata": {},
   "source": [
    "Visualizations can help understand what information the networks are extracting from the EEG signal. 11 of the prior 19 studies presented any visualizations. These studies mostly focused on analyzing weights and activations, see {numref}`prior-work-visualizations-table`. In our work, we first focused on investigating how far the networks extract spectral features known to work well for movement-related decoding, see {ref}`perturbation-visualization`. Later, we also developed more sophisticated visualization methods and applied them both to pathology decoding, see {ref}`invertible-networks` and {ref}`understanding-pathology`."
   ]
  },
  {
   "cell_type": "markdown",
   "metadata": {},
   "source": [
    "```{admonition} Open Questions\n",
    ":class: tip\n",
    "* How do ConvNets perform on well-researched EEG movement-related decoding tasks against strong feature-based baselines?\n",
    "* How do shallower and deeper architectures compare?\n",
    "* How do design choices and training strategies affect the decoding performance?\n",
    "* What features do the deep networks learn on the EEG signals?\n",
    "* Do they learn to use higher-frequency (>50 Hz) information?\n",
    "```"
   ]
  }
 ],
 "metadata": {
  "kernelspec": {
   "display_name": "Python 3 (ipykernel)",
   "language": "python",
   "name": "python3"
  },
  "language_info": {
   "codemirror_mode": {
    "name": "ipython",
    "version": 3
   },
   "file_extension": ".py",
   "mimetype": "text/x-python",
   "name": "python",
   "nbconvert_exporter": "python",
   "pygments_lexer": "ipython3",
   "version": "3.9.7"
  }
 },
 "nbformat": 4,
 "nbformat_minor": 4
}
