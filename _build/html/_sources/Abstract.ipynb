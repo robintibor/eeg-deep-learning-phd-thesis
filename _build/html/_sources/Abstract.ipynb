{
 "cells": [
  {
   "cell_type": "markdown",
   "metadata": {},
   "source": [
    "# Deep Learning for Brain-Signal Decoding from Electroencephalography (EEG)"
   ]
  },
  {
   "cell_type": "markdown",
   "metadata": {},
   "source": [
    "What a marvelous topic to learn about!\n",
    "\n",
    "\n",
    "* Introduction: general framing\n",
    "* Prior work, like what have people done, also already new DL, just say you describe your contribution\n",
    "    * describe also which application: \n",
    "        * first general, BCI, maybe also include series of paper by others\n",
    "        * then  go to auto diag\n",
    "        * then show auto diagnosis similar to feature based\n",
    "        * also go in detail about EEG, like unclear which singal properties necessary\n",
    "* your big paper \n",
    "* series of papers\n",
    "* auto diagnosis paper\n",
    "* lukas auto diagnosis paper\n",
    "* visualization stuff\n",
    "* transformer idea\n",
    "* conclusion"
   ]
  }
 ],
 "metadata": {
  "kernelspec": {
   "display_name": "Python 3",
   "language": "python",
   "name": "python3"
  },
  "language_info": {
   "codemirror_mode": {
    "name": "ipython",
    "version": 3
   },
   "file_extension": ".py",
   "mimetype": "text/x-python",
   "name": "python",
   "nbconvert_exporter": "python",
   "pygments_lexer": "ipython3",
   "version": "3.7.5"
  }
 },
 "nbformat": 4,
 "nbformat_minor": 4
}
