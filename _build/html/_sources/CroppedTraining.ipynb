{
 "cells": [
  {
   "cell_type": "markdown",
   "id": "020f265b-f252-43e5-b4e3-a41607c1a588",
   "metadata": {},
   "source": [
    "(cropped-training)=\n",
    "# Cropped Training"
   ]
  },
  {
   "cell_type": "markdown",
   "id": "a09d6811-3412-4d9f-b4c2-1b64d2baa8da",
   "metadata": {},
   "source": [
    "In this chapter, we describe a specific \"cropped\" training strategy that regularizes the networks by training on many sliding temporal windows within the data. This is meant to squeeze out more performance from deep networks on EEG, as the performance of deep networks often scales well with more training data and EEG datasets are often rather small. We show how to use a cropped training strategy by training on temporal crops of EEG data that had been similarly used in computer vision by training on spatial crops of images. First, we will describe regular non-cropped training, then cropped training on a conceptual level and finally how to make cropped training computationally more efficient. "
   ]
  },
  {
   "cell_type": "markdown",
   "id": "35c4835a-6e0d-42ba-87a7-5a49d2e7aed2",
   "metadata": {},
   "source": [
    "## Non-Cropped/Trialwise Training"
   ]
  },
  {
   "cell_type": "markdown",
   "id": "d02c3110-c971-4a4b-8904-ef2860489150",
   "metadata": {},
   "source": [
    "In trialwise EEG training, deep networks are trained using EEG signals of entire trials and their corresponding labels as examples. With typical sizes of EEG datasets, networks may therefore be trained on ~100-1000 examples per subject. This is much less in computer vision, where networks are typically trained on tens of thousands or even millions of images. \n"
   ]
  },
  {
   "cell_type": "markdown",
   "id": "f5a87250-e967-4aba-ba5b-d62e815efb1b",
   "metadata": {
    "tags": [
     "remove-cell"
    ]
   },
   "source": [
    "![title](images/trialwise_explanation.png)"
   ]
  },
  {
   "cell_type": "markdown",
   "id": "5c1442f2-6ad7-481c-b400-42f970bcf287",
   "metadata": {},
   "source": [
    "```{figure} images/trialwise_explanation.png\n",
    "---\n",
    "name: trialwise-figure\n",
    "---\n",
    "Trialwise training example. An entire single trial is fed through the network and the network's prediction is compared to the target to train the network.\n",
    "```"
   ]
  },
  {
   "cell_type": "markdown",
   "id": "716dc8c5-efb4-42ef-9dbc-d602daf3fc81",
   "metadata": {},
   "source": [
    "## Cropped Training\n",
    "\n",
    "Cropped training increases the number of training examples by training on many crops, i.e., temporal windows, within the trial. For example, for a 4-second trial, one may create all possible 2-second windows inside the trial and use these as \"independent\" examples. This drastically increases the number of training examples, albeit many of the examples are highly overlapping. This is an exteme version of the method to use random crops of images that is used to train deep entworks in computer vision. A naive implementation here would increase the computational cost per training epoch a lot as now there are much more examples. Thankfully, the high overlap between neighbouring crops can be exploited for a more efficient implementation."
   ]
  },
  {
   "cell_type": "markdown",
   "id": "eb93cab2-1cfe-4160-b105-dc0b3b6cff7b",
   "metadata": {
    "tags": [
     "remove-cell"
    ]
   },
   "source": [
    "![title](images/cropped_explanation.png)"
   ]
  },
  {
   "cell_type": "markdown",
   "id": "0f3701a7-1bc2-4937-9043-b1cd3a0b46eb",
   "metadata": {},
   "source": [
    "```{figure} images/cropped_explanation.png\n",
    "---\n",
    "name: cropped-figure\n",
    "---\n",
    "Cropped training example. A compute window contains many temporal windows (crops) inside that are used as individual examples to train the network.\n",
    "```"
   ]
  },
  {
   "cell_type": "markdown",
   "id": "35958711-9228-4a1e-82cc-6ccb58ff9e17",
   "metadata": {
    "tags": []
   },
   "source": [
    "## Computationally Faster Cropped Training"
   ]
  },
  {
   "cell_type": "markdown",
   "id": "69c87203-d2c1-4352-beb1-0724dd1900ff",
   "metadata": {},
   "source": [
    "Cropped training can be implemented with substantially less computations by exploiting that highly overlapping crops result in highly overlapping intermediate representations. By passing a group of neighbouring crops together, we can reuse intermediate computations. See {numref}`cropped-naive-computation-figure` and  {numref}`cropped-efficient-computation-figure` for a concrete example of this speedup method. This idea had been used in the same way for dense predictions on images, e.g. for segmentation {cite}`giusti_fast_2013,nasse_face_2009,sermanet_overfeat:_2013,shelhamer_fully_2016`."
   ]
  },
  {
   "cell_type": "markdown",
   "id": "d43e5c3c-d6ab-458b-a958-c1e712127811",
   "metadata": {
    "tags": [
     "remove-cell"
    ]
   },
   "source": [
    "![title](images/Multiple_Prediction_Matplotlib_Graphics.ipynb.2.png)"
   ]
  },
  {
   "cell_type": "markdown",
   "id": "71ffad9c-0be0-4fbd-8b90-0ae1532d205a",
   "metadata": {},
   "source": [
    "```{figure} images/Multiple_Prediction_Matplotlib_Graphics.ipynb.2.png\n",
    "---\n",
    "name: cropped-naive-computation-figure\n",
    "---\n",
    "Naive cropped training toy example. Each possible length-5 crop is taken from the original length-7 trial and independently processed by the Conv-Conv-Linear projection network. All filter values of the network are assumed to be ones. Each crop is processed independently. The values in red are identical and unnecessarily computed independently for each crop.\n",
    "```"
   ]
  },
  {
   "cell_type": "markdown",
   "id": "b41b6718-4721-4557-92c1-682a25404588",
   "metadata": {
    "tags": [
     "remove-cell"
    ]
   },
   "source": [
    "![title](images/Multiple_Prediction_Matplotlib_Graphics.ipynb.3.png)"
   ]
  },
  {
   "cell_type": "markdown",
   "id": "92757f49-46fa-4196-9b27-06b7a687ac10",
   "metadata": {},
   "source": [
    "```{figure} images/Multiple_Prediction_Matplotlib_Graphics.ipynb.3.png\n",
    "---\n",
    "name: cropped-efficient-computation-figure\n",
    "width: 50%\n",
    "---\n",
    "Efficient cropped training. \n",
    "```"
   ]
  },
  {
   "cell_type": "markdown",
   "id": "e9189722-3e82-4345-858c-552f876b8a23",
   "metadata": {},
   "source": [
    "Efficient cropped training then results in the exact same predictions and training as if the neighbouring crops were passed separately through the network. This is only true for networks that either use left-padding or no padding at all. In the deep and shallow network described here, we do not use any padding. In the residual network, we use padding, hence the training is not exactly identical to passing neighbouring crops separately, but we found it still improves over trial-wise training."
   ]
  },
  {
   "cell_type": "markdown",
   "id": "6d0830f9-bfeb-4b47-95f1-d6ea545d1957",
   "metadata": {},
   "source": [
    "The more efficient way to do cropped training introduces a new hyperparameter, the number of neighbouring crops that are decoded together. The larger this hyperparameter, the more computations are saved and the more speedup one gets (see {cite}`giusti_fast_2013` for a more detailed speedup analysis on images). Larger numbers of neighbouring crops that are trained on simultanaeously require more memory and may also affect the training dynamics due to more neighbouring crops being in the same mini-batch. However, we did not find negative effects on the training dynamics from larger number of simultaneously decoded neighbouring crops, consistent with prior work in computer vision {cite}`shelhamer_fully_2016`."
   ]
  }
 ],
 "metadata": {
  "kernelspec": {
   "display_name": "Python 3 (ipykernel)",
   "language": "python",
   "name": "python3"
  },
  "language_info": {
   "codemirror_mode": {
    "name": "ipython",
    "version": 3
   },
   "file_extension": ".py",
   "mimetype": "text/x-python",
   "name": "python",
   "nbconvert_exporter": "python",
   "pygments_lexer": "ipython3",
   "version": "3.9.7"
  }
 },
 "nbformat": 4,
 "nbformat_minor": 5
}
