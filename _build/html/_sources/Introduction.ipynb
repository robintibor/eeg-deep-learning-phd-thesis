{
 "cells": [
  {
   "cell_type": "markdown",
   "metadata": {},
   "source": [
    "(introduction)=\n",
    "# Introduction"
   ]
  },
  {
   "cell_type": "markdown",
   "metadata": {},
   "source": [
    "* machine learning for medicine\n",
    "* need what for, why nice\n",
    "  * can diagnose better (find ghints by evaluating data doctor would not have time, including early warning)\n",
    "  * potentially better diagnosis\n",
    "  * scientific discovery\n",
    "\n",
    "* brain signals \n",
    "  * hard to understand for humans\n",
    "  * may even contain additional info not known\n",
    "  * EEG easy to acquire inexpensive, especially hard to interpret\n",
    "\n"
   ]
  },
  {
   "cell_type": "markdown",
   "metadata": {},
   "source": [
    "## Old - merge together"
   ]
  },
  {
   "cell_type": "markdown",
   "metadata": {},
   "source": [
    "AI on EEG \n",
    "* many exciting possibilities\n",
    "* automatic diagnosis, EEG etc.\n",
    "* hard problems for humans on limited data\n",
    "\n",
    "AI on physiological signals\n",
    "* Automated interpretation of physiological signals by machine-learning methods many exciting possibilities\n",
    "* Get better\n",
    "* Learn something new\n",
    "\n",
    "EEG \n",
    "* Easy to acquire larger amounts of data\n",
    "* Hard to interpret for humans\n",
    "* Applications limited by currently achievable accuracies\n",
    "\n",
    "Possible apps:\n",
    "* BCI - but limitation not necessarily clear\n",
    "* Automatic diagnosis - limiation clearer\n",
    "\n",
    "Deep learning\n",
    "* Good on many signals\n",
    "* Excels with large datasets\n",
    "\n",
    "Difficulties\n",
    "* not known if really better and if EEG signals suitable for deep learning\n",
    "* not known if we can extract info\n",
    "\n",
    "This Thesis\n",
    "* Investigate Potential for deep learning\n",
    "\n"
   ]
  }
 ],
 "metadata": {
  "kernelspec": {
   "display_name": "Python 3",
   "language": "python",
   "name": "python3"
  },
  "language_info": {
   "codemirror_mode": {
    "name": "ipython",
    "version": 3
   },
   "file_extension": ".py",
   "mimetype": "text/x-python",
   "name": "python",
   "nbconvert_exporter": "python",
   "pygments_lexer": "ipython3",
   "version": "3.7.5"
  }
 },
 "nbformat": 4,
 "nbformat_minor": 4
}
