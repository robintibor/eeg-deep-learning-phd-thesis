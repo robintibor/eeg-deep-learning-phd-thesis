{
 "cells": [
  {
   "cell_type": "markdown",
   "metadata": {},
   "source": [
    "(pathology)=\n",
    "# Decoding Pathology"
   ]
  },
  {
   "cell_type": "markdown",
   "metadata": {},
   "source": [
    "\n",
    "\n",
    "* much less explored, best assumptions much less clear\n",
    "* hypothesis model with least assumptions/most free should be best\n",
    "* visualization even more important, also use doctors texts etc.\n",
    "\n",
    "* TCN - hyperparameter search architecture search\n",
    "  * before implicit assumptions encoded into architectures and not always clear what they exactly correspond to \n",
    "     * also mention raighu paper wide and deep netowrks do they learn same etc.\n",
    "\n"
   ]
  }
 ],
 "metadata": {
  "kernelspec": {
   "display_name": "Python 3 (ipykernel)",
   "language": "python",
   "name": "python3"
  },
  "language_info": {
   "codemirror_mode": {
    "name": "ipython",
    "version": 3
   },
   "file_extension": ".py",
   "mimetype": "text/x-python",
   "name": "python",
   "nbconvert_exporter": "python",
   "pygments_lexer": "ipython3",
   "version": "3.9.7"
  }
 },
 "nbformat": 4,
 "nbformat_minor": 4
}
