{
 "cells": [
  {
   "cell_type": "markdown",
   "metadata": {},
   "source": [
    "# Deep Learning for Brain-Signal Decoding from Electroencephalography"
   ]
  },
  {
   "cell_type": "markdown",
   "metadata": {},
   "source": [
    "## Abstract"
   ]
  },
  {
   "cell_type": "markdown",
   "metadata": {},
   "source": [
    "Brain-signal decoding using machine learning can process larger amounts of signals and extract different information than humans can, for example in medical diagnosis or brain-computer interfaces. In particular, brain-signal decoding from electroencephalographic (EEG) recordings is a promising area for machine learning due to the relative ease of acquiring large amounts of EEG recordings and the difficulty of interpreting them manually. Deep neural networks are a natural choice to train to decode EEG signals as they have been successful at a variety of natural-signal decoding tasks like object recognition from images or speech recognition from audio. However, prior to the work in this thesis, it was still unclear how well deep neural networks perform on EEG decoding compared to hand-engineered, feature-based approaches, and more research was needed to determine the optimal approaches for using deep learning to decode EEG. This thesis describes constructing and training deep neural networks for EEG decoding that perform as well as feature-based approaches and developing visualizations that suggest they extract physiologically meaningful features."
   ]
  },
  {
   "cell_type": "markdown",
   "metadata": {},
   "source": [
    "## Contents"
   ]
  },
  {
   "cell_type": "markdown",
   "metadata": {},
   "source": [
    "| Chapter    | Summary    |\n",
    "| :--- | ---: |\n",
    "| **Introduction and Background**|\n",
    "| [Introduction](introduction)   |  Deep learning on EEG is a very promising approach for brain-signal-based medical applications  |\n",
    "| [Prior Work](prior-work)   | Prior to 2017, research did not clearly show how competitive deep learning is compared with well-optimized feature baselines   |\n",
    "| [Filterbank Common Spatial Patterns and Filterbank Network](fbscp-and-filterbank-net)   | Filter Bank Common Spatial Patterns was an inspiration for initial network architectures|\n",
    "| **Methods**|\n",
    "| [Neural Network Architectures for EEG-Decoding](network-architectures)   | Progressively more generic neural network architectures for EEG decoding were created |\n",
    "| [Cropped Training](cropped-training)   | A training strategy to use many sliding windows was implemented in a computationally efficient manner |\n",
    "| [Perturbation Visualization](perturbation-visualization)   | A visualization of how frequency features affect the trained network was developed |\n",
    "| **Applications and Results**|\n",
    "| [Movement-Related Decoding](movement-related)   | Deep learning can be at least as good as feature-based baselines for movement-related decoding; deep networks also learn to extract known hand-engineered features|\n",
    "| [Generalization to Other Tasks](task-related)   | Our deep networks generalize well to decoding other decoding tasks|\n",
    "| [Decoding Pathology](pathology)  | Deep networks designed for task-related decoding can also decode pathology well  |\n",
    "| [Understanding Pathology Decoding with Invertible Networks](invertible-networks) | Better Understanding and larger data through invertible networks |\n",
    "| [Future Work](future-work)   | Newer DL architectures such as transformers may allow better performance and better interpretability   |"
   ]
  },
  {
   "cell_type": "markdown",
   "metadata": {
    "tags": [
     "remove-cell"
    ]
   },
   "source": [
    "Possible:\n",
    "\n",
    "| Chapter    | Summary    |\n",
    "| :--- | ---: |\n",
    "| [Back to Features - a Comparison](feature-comparison)   | Well-optimized feature baselines remain competitive with deep learning    |\n",
    "| [Further Deep Learning Improvements](dl-improvements)   | Deep learning improvements from other domains partially carry over to EEG decoding    ?|\n",
    "\n",
    "* [Introduction](introduction)\n",
    "* [Prior Work](prior-work)\n",
    "* [Neural Network Architectures for EEG-Decoding](network-architectures)\n",
    "* [Cropped Training](cropped-training)\n",
    "* [Movement-Related Decoding](movement-related)\n",
    "* [Decoding Pathology](pathology)\n",
    "* [Further Deep Learning Improvements](dl-improvements)\n",
    "* [Back to Features - a Comparison](feature-comparison)\n",
    "* [Invertible Networks](invertible-networks)\n",
    "* [Further Interpretability](deep-interpretability)\n",
    "* [Future Work](future-work)"
   ]
  }
 ],
 "metadata": {
  "kernelspec": {
   "display_name": "Python 3 (ipykernel)",
   "language": "python",
   "name": "python3"
  },
  "language_info": {
   "codemirror_mode": {
    "name": "ipython",
    "version": 3
   },
   "file_extension": ".py",
   "mimetype": "text/x-python",
   "name": "python",
   "nbconvert_exporter": "python",
   "pygments_lexer": "ipython3",
   "version": "3.9.7"
  }
 },
 "nbformat": 4,
 "nbformat_minor": 4
}