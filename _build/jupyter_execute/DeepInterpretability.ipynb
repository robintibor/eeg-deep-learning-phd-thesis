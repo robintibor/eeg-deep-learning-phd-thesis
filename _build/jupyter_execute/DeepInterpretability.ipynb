{
 "cells": [
  {
   "cell_type": "markdown",
   "id": "0400d9b5",
   "metadata": {},
   "source": [
    "(deep-interpretability)=\n",
    "# Further Interpretability\n",
    "\n",
    "\n",
    "### Interpretability (remove?)\n",
    "\n",
    "    Hartmann K.G., Schirrmeister R. T., and Ball T., \"Hierarchical internal representation of spectral features in deep convolutional networks trained for EEG decoding\". IEEE The 6th International Winter Conference on Brain-Computer Interface 2018. doi.org/10.1109/IWW-BCI.2018.8311493"
   ]
  }
 ],
 "metadata": {
  "kernelspec": {
   "display_name": "Python 3 (ipykernel)",
   "language": "python",
   "name": "python3"
  },
  "language_info": {
   "codemirror_mode": {
    "name": "ipython",
    "version": 3
   },
   "file_extension": ".py",
   "mimetype": "text/x-python",
   "name": "python",
   "nbconvert_exporter": "python",
   "pygments_lexer": "ipython3",
   "version": "3.9.7"
  }
 },
 "nbformat": 4,
 "nbformat_minor": 5
}