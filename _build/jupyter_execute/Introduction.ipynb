{
 "cells": [
  {
   "cell_type": "markdown",
   "metadata": {},
   "source": [
    "(introduction)=\n",
    "# Introduction"
   ]
  },
  {
   "cell_type": "markdown",
   "metadata": {},
   "source": [
    "```{admonition} Deep Learning (DL) is a very promising method to decode brain signals from EEG\n",
    "* Deep learning may extract more information from EEG signals that humans can\n",
    "* Deep learning may improve EEG-based diagnosis, enable new assistive technologies and advance scientific understanding of the EEG signal\n",
    "* Deep learning ... (Results this thesis)\n",
    "```\n",
    "\n",
    "\n",
    "Machine learning (ML), i.e., using data to learn programs that can solve specific tasks, has the potential to benefit medical applications. Compared to humans, machine-learning programs can process larger amounts of data and may extract different information. For example, machine-learning algorithms have processed the large amounts of signals recorded in an intensive-care unit to predict kidney failure {cite:p}`rank2020deep,tomavsev2019clinically`, diagnosed breast cancer using high-frequency features usually ignored by doctors {cite:p}`makino2022differences`, translated brain signals into control signals for external devices in real-time {cite:p}`abiri2019comprehensive` and detected pathology from long brain signal recordings {cite:p}`gemein2020machine,schirrmeisterdeeppathology`. Used in this way, machine learning may improve medical interventions, enable new assistive devices and advance scientific understanding."
   ]
  },
  {
   "cell_type": "markdown",
   "metadata": {},
   "source": [
    "Brain-signal decoding is an especially interesting problem to tackle with machine learning. Brain signals contain a lot of information, yet are hard to interpret for humans. Additionally, more brain signals can be recorded than humans could possibly process. Machine-learning algorithms can help doctors triage patients by quickly detecting stroke biomarkers from computed tomography (CT) {cite:p}`chavva2022deep` and enable brain-computer interfaces by recognizing people's intentions from electroencephalographic (EEG) in real time  {cite:p}`abiri2019comprehensive`. Also, as brain signals are far from being fully understood, machine-learning algorithms have the potential to advance scientific understanding by finding new brain-signal biomarkers for different pathologies {cite:p}`raghu2020survey`.\n"
   ]
  },
  {
   "cell_type": "markdown",
   "metadata": {},
   "source": [
    "Electroencephalographic (EEG) brain-signal recordings are well-suited for machine learning due to the ease of acquiring them and the difficulty of interpreting them manually. Large EEG datasets can be created relatively easy compared to other medical recordings as EEG recordings are fairly cheap and lack substantial side effects.  Furthermore, EEG recordings are particularly challenging for humans to interpret, making them a promising target for information extraction through machine learning. Some clinical applications of EEG such as pathology diagnosis may be improved by machine learning, while others such as brain-computer interfaces are even only possible because of machine learning. Finally, since the information contained in the EEG signal is far from being fully understood, machine learning may even help understand the EEG signal itself better."
   ]
  },
  {
   "cell_type": "markdown",
   "metadata": {},
   "source": [
    "Deep learning is a very promising approach for brain-signal decoding from EEG. Deep learning describes machine-learning models with multiple computational stages, where the computational stages are typically trained jointly to solve a given task {cite:p}`lecun_deep_2015,schmidhuber_deep_2015`. Deep neural networks (DNNs) are deep learning models that are  inspired by computational structures in the brain and have in recent times become the most successful models for a wide variety of tasks, including object detection in images, speech recognition from audio or machine translation.  DNNs only have very general assumptions about the properties of their training signals embedded into them (such as smoothness and hierarchical structure) and have shown great success on a variety of natural signals. Therefore, DNNs are very promising to apply to hard-to-understand natural signals like EEG signals."
   ]
  },
  {
   "cell_type": "markdown",
   "metadata": {},
   "source": [
    "Prior to the work presented in this thesis, it was unclear how well DNN architectures can decode EEG signals compared to hand-engineered, feature-based approaches. The high dimensionality, low signal-to-noise ratio and large signal variability (e.g., from person to person or even session to session for the same person) of EEG data present challenges that may  be better addressed by feature-based approaches that exploit more specific assumptions about the EEG signal. While there have been previous efforts to apply deep learning to EEG, a systematic study of the performance of modern DNNs on EEG decoding, including the impact of network architecture and training hyperparameters, was lacking."
   ]
  },
  {
   "cell_type": "markdown",
   "metadata": {},
   "source": [
    "In this thesis, I will first describe the research on deep learning EEG decoding prior to our work, then proceed to describe the deep network architectures and training methods we developed to rival or surpass feature-based EEG decoding approaches on movement- and other task-related EEG decoding tasks as well as pathology diagnosis. Furthermore, I also describe the visualization methods we developed that suggest the networks are using plausible neurophysiological patterns to solve their tasks."
   ]
  }
 ],
 "metadata": {
  "kernelspec": {
   "display_name": "Python 3 (ipykernel)",
   "language": "python",
   "name": "python3"
  },
  "language_info": {
   "codemirror_mode": {
    "name": "ipython",
    "version": 3
   },
   "file_extension": ".py",
   "mimetype": "text/x-python",
   "name": "python",
   "nbconvert_exporter": "python",
   "pygments_lexer": "ipython3",
   "version": "3.9.7"
  }
 },
 "nbformat": 4,
 "nbformat_minor": 4
}