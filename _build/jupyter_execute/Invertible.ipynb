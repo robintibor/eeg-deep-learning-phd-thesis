{
 "cells": [
  {
   "cell_type": "markdown",
   "id": "32579b38-4b0f-48ad-b39a-50f7a61eccfd",
   "metadata": {},
   "source": [
    "(invertible-networks)=\n",
    "# Invertible Networks"
   ]
  },
  {
   "cell_type": "markdown",
   "id": "175f2889-89ca-4d07-b02f-371f6a7791f2",
   "metadata": {},
   "source": [
    "Invertible networks are networks that are invertible by design, i.e., any network output can be bijectively mapped back to a corresponding input [refs]. The ability to invert any output back to the input enables different interpretability methods and furthermore allows training invertible networks as generative models via maximum likelhood. \n",
    "\n",
    "* [todo explain]"
   ]
  },
  {
   "cell_type": "markdown",
   "id": "b06793e5-26c6-447f-a183-a5de4e433dcd",
   "metadata": {
    "tags": [
     "remove-cell"
    ]
   },
   "source": [
    "![](images/bcic_iv_2a_right_vs_rest.png)"
   ]
  },
  {
   "cell_type": "markdown",
   "id": "1137943e-0c1d-4b6a-a8f0-e45ae46e84ee",
   "metadata": {},
   "source": [
    "```{figure} images/bcic_iv_2a_right_vs_rest.png\n",
    "---\n",
    "name: bcic-iv-2a-right-vs-rest\n",
    "---\n",
    "Right hand vs resting state class prototypes learned by an invertible network on the BCIC IV 2a dataset. Note the increased alpha oscillation for resting state, especially on the left side.\n",
    "```"
   ]
  },
  {
   "cell_type": "markdown",
   "id": "66ed7f27-3f17-4820-8c31-2c240c140931",
   "metadata": {
    "tags": [
     "remove-cell"
    ]
   },
   "source": [
    "![](images/bcic_iv_2a_right_vs_rest_C3.png)"
   ]
  },
  {
   "cell_type": "markdown",
   "id": "1c6eb0ac-8389-4e72-be82-06e3475caf3e",
   "metadata": {},
   "source": [
    "```{figure} images/bcic_iv_2a_right_vs_rest.png\n",
    "---\n",
    "name: bcic-iv-2a-right-vs-rest-C3\n",
    "---\n",
    "Right hand vs resting state class prototypes learned by an invertible network on the BCIC IV 2a dataset, showing the C3 electrode. Note the increased alpha oscillation.\n",
    "```"
   ]
  },
  {
   "cell_type": "markdown",
   "id": "0ee4203d-5350-4b14-92a9-ebdfe681cf12",
   "metadata": {},
   "source": [
    "Class prototypes are one directly obtainable visualization of the trained invertible network. Here, the invertible network was trained as a class-conditional generative model via maximum likelihood with an extra classification loss [refs etc.]. To obtain the class protypes we first found the maxima of each class  distribution, i.e., of the learned class-conditional distribution $p_{\\theta}(x|y_c)$. From that starting point, the synthetic prototypes were further optimized to minimize $L_{proto}(x) = -w_{prob}\\log_{}\\left(p_{\\theta}\\left(x\\mid y_{c}\\right)\\right)\\,-w_{class}\\,\\log_{}\\left(p_{\\theta}\\left(y_{c}\\mid x\\right)\\right)$. \n",
    "\n",
    "Prototypes for right hand vs resting state show a plausible discriminative pattern with increasing alpha oscillation of resting state compared to right hand, see {numref}`bcic-iv-2a-right-vs-rest`. Note that due to the discriminative training and the discriminative term in the optimization, these visualizations may show discriminative patterns that do not directly correspond to how actual signals for these classes look like. For example, in the actual data there may a decreasing right hand oscillation and a stable oscillation for resting state. See also the discussion in {ref}`perturbation-visualization-interpretation`."
   ]
  },
  {
   "cell_type": "markdown",
   "id": "c1fdca0c-cc25-4f50-b1ba-3830b10c75c3",
   "metadata": {},
   "source": [
    "Todo:\n",
    "* Neural architecture search\n",
    "* Simplebits"
   ]
  }
 ],
 "metadata": {
  "kernelspec": {
   "display_name": "Python 3 (ipykernel)",
   "language": "python",
   "name": "python3"
  },
  "language_info": {
   "codemirror_mode": {
    "name": "ipython",
    "version": 3
   },
   "file_extension": ".py",
   "mimetype": "text/x-python",
   "name": "python",
   "nbconvert_exporter": "python",
   "pygments_lexer": "ipython3",
   "version": "3.9.7"
  }
 },
 "nbformat": 4,
 "nbformat_minor": 5
}