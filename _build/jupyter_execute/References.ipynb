{
 "cells": [
  {
   "cell_type": "markdown",
   "id": "ab387047-2d69-4c3b-88bf-1eb8c1fdc064",
   "metadata": {
    "tags": []
   },
   "source": [
    "# References"
   ]
  },
  {
   "cell_type": "markdown",
   "id": "0492635b-47d9-4127-adc7-22ecadc4a0c0",
   "metadata": {},
   "source": [
    "\n",
    "```{bibliography} ./references.bib\n",
    "```"
   ]
  }
 ],
 "metadata": {
  "kernelspec": {
   "display_name": "Python 3 (ipykernel)",
   "language": "python",
   "name": "python3"
  },
  "language_info": {
   "codemirror_mode": {
    "name": "ipython",
    "version": 3
   },
   "file_extension": ".py",
   "mimetype": "text/x-python",
   "name": "python",
   "nbconvert_exporter": "python",
   "pygments_lexer": "ipython3",
   "version": "3.9.7"
  }
 },
 "nbformat": 4,
 "nbformat_minor": 5
}