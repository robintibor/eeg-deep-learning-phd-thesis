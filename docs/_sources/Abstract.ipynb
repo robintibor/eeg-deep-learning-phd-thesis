{
 "cells": [
  {
   "cell_type": "markdown",
   "metadata": {},
   "source": [
    "# Deep Learning for Brain-Signal Decoding from Electroencephalography (EEG)"
   ]
  },
  {
   "cell_type": "markdown",
   "metadata": {},
   "source": [
    "What a marvelous topic to learn about!\n",
    "\n",
    "\n",
    "* [Introduction](introduction)\n",
    "* [Prior Work](prior-work)\n",
    "* [Task-Related Decoding](task-related)\n",
    "* [Decoding Pathology](pathology)\n",
    "* [Further Deep Learning Improvements](dl-improvements)\n",
    "* [Back to Features - a Comparison](feature-comparison)\n",
    "* [Future Work](future-work)"
   ]
  },
  {
   "cell_type": "code",
   "execution_count": null,
   "metadata": {},
   "outputs": [],
   "source": []
  }
 ],
 "metadata": {
  "kernelspec": {
   "display_name": "Python 3",
   "language": "python",
   "name": "python3"
  },
  "language_info": {
   "codemirror_mode": {
    "name": "ipython",
    "version": 3
   },
   "file_extension": ".py",
   "mimetype": "text/x-python",
   "name": "python",
   "nbconvert_exporter": "python",
   "pygments_lexer": "ipython3",
   "version": "3.7.5"
  }
 },
 "nbformat": 4,
 "nbformat_minor": 4
}
