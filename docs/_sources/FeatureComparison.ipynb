{
 "cells": [
  {
   "cell_type": "markdown",
   "metadata": {},
   "source": [
    "(feature-comparison)=\n",
    "# Back to Features - a Comparison"
   ]
  },
  {
   "cell_type": "markdown",
   "metadata": {},
   "source": [
    "* challenge: have we really progressed?\n",
    "* more detailed analysis\n",
    "* statistically no significant differences to feature-based, TCN beste"
   ]
  }
 ],
 "metadata": {
  "kernelspec": {
   "display_name": "Python 3",
   "language": "python",
   "name": "python3"
  },
  "language_info": {
   "codemirror_mode": {
    "name": "ipython",
    "version": 3
   },
   "file_extension": ".py",
   "mimetype": "text/x-python",
   "name": "python",
   "nbconvert_exporter": "python",
   "pygments_lexer": "ipython3",
   "version": "3.7.5"
  }
 },
 "nbformat": 4,
 "nbformat_minor": 4
}
