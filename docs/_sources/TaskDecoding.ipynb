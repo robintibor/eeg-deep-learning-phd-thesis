{
 "cells": [
  {
   "cell_type": "markdown",
   "metadata": {},
   "source": [
    "(task-related)=\n",
    "# Decoding Task-Related Brain Activity"
   ]
  },
  {
   "cell_type": "markdown",
   "metadata": {},
   "source": [
    "* explain significance of task-related decoding\n",
    "  * very important in past, many papers on it\n",
    "\n",
    "\n",
    "* explain strategy how we did deep learning and this is also how chapter structured: take assumptions that are behind algorithms, embed into network, soften, soften, see how it goes\n",
    "* maybe use word inductive bias\n",
    "\n",
    "* assumptions behind traditional approaches like FBCSP\n",
    "* softer assumptions behind deep learning shallow FBCSP net\n",
    "* even softer, towards computer vision, for deep net\n",
    "\n",
    "\n",
    "\n",
    "visualizations\n",
    "* check what is actually used?\n",
    "* precise definition difficult\n",
    "\n",
    "* also note extra results on other datasets and why and also mention further papers task related\n",
    "\n",
    "* possibly comparison with current state"
   ]
  },
  {
   "cell_type": "markdown",
   "metadata": {},
   "source": [
    "## old - merge"
   ]
  },
  {
   "cell_type": "markdown",
   "metadata": {},
   "source": [
    "* unclear how good deep learning can be for task-related activity\n",
    "* important benchmark as many decode on this\n",
    "* our approach to evaluate\n",
    "* our benchmark method (copy FBCSP text)\n",
    "* "
   ]
  },
  {
   "cell_type": "markdown",
   "metadata": {},
   "source": []
  }
 ],
 "metadata": {
  "kernelspec": {
   "display_name": "Python 3",
   "language": "python",
   "name": "python3"
  },
  "language_info": {
   "codemirror_mode": {
    "name": "ipython",
    "version": 3
   },
   "file_extension": ".py",
   "mimetype": "text/x-python",
   "name": "python",
   "nbconvert_exporter": "python",
   "pygments_lexer": "ipython3",
   "version": "3.7.5"
  }
 },
 "nbformat": 4,
 "nbformat_minor": 4
}
