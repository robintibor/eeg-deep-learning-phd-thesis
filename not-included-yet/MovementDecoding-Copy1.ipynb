{
 "cells": [
  {
   "cell_type": "markdown",
   "metadata": {},
   "source": [
    "(movement-related)=\n",
    "# Decoding Movement-Related Brain Activity"
   ]
  },
  {
   "cell_type": "markdown",
   "metadata": {
    "tags": []
   },
   "source": [
    "## Background and our Development Strategy"
   ]
  },
  {
   "cell_type": "markdown",
   "metadata": {},
   "source": [
    "Task-related, and especially movement-related decoding are among the most researched  paradigms in EEG decoding. A typical setup is that subjects receive a cue for a specific body part (e.g. right hand, feet, tongue, etc.) and either move this body part (motor execution) or just imagine to move this part (motor imagery). The EEG signals acquired during the imagined or executed movements then often contain patterns specific to the body part that was moved or thought about. These patterns can then be decoded using machine learning.\n",
    "\n",
    "Many feature-based methods have been used to decode executed and imagined movements from EEG. \n",
    "* most popular?\n",
    "* FBSCP, forward reference (explained in...)\n",
    "[...]\n",
    "\n",
    "\n",
    "\n",
    "Deep neural network-based approaches had only been investigated more intensively from a much later date. \n",
    "* beginning works blabla\n",
    "* not clear evaluation, also mention year\n",
    "\n",
    "Development strategy:\n",
    "* first use something close to feature-based stuff (include master thesis)\n",
    "* then move to more complex/generic\n",
    "* always ablate hyperparameter choices\n",
    "\n",
    "\n",
    "\n",
    "\n",
    "```{admonition} Most well-performing movement-intention-decoding methods have strong assumptions \n",
    "* They use knowledge about brain signals \n",
    "* Assume changes in amplitude of oscillations in specific frequency ranges predict the intention\n",
    "* These changes also are assumed to follow specific spatial patterns\n",
    "```\n",
    "\n",
    "\n",
    "\n",
    "```{admonition} Movement-related tasks are the most researched tasks in EEG decoding.\n",
    "* Many studies have been done on it before the advent of deep learning\n",
    "* Hence, good feature-based baselines exist\n",
    "```"
   ]
  },
  {
   "cell_type": "markdown",
   "metadata": {},
   "source": []
  },
  {
   "cell_type": "markdown",
   "metadata": {},
   "source": [
    "[Explain background with beautiful pictures]"
   ]
  },
  {
   "cell_type": "markdown",
   "metadata": {},
   "source": [
    "```{admonition} We followed the strategy of iteratively relaxing these assumptions in our deep learning development\n",
    "* First, use a network that exactly embeds the strategies of FBCSP, simply train jointly\n",
    "* Then a \"shallow\" network with large kernel sizes, mean pooling and squared activation to easily extract slow amplitude changes\n",
    "* Then a \"deep\" network with smaller kernel sizes and activation functions as networks in computer vision for a more generic network\n",
    "```"
   ]
  },
  {
   "cell_type": "markdown",
   "metadata": {},
   "source": [
    "## Filter Bank Common Spatial Patterns"
   ]
  },
  {
   "cell_type": "markdown",
   "metadata": {},
   "source": []
  },
  {
   "cell_type": "markdown",
   "metadata": {
    "tags": []
   },
   "source": [
    "## Models Details"
   ]
  },
  {
   "cell_type": "code",
   "execution_count": null,
   "metadata": {},
   "outputs": [],
   "source": []
  },
  {
   "cell_type": "markdown",
   "metadata": {},
   "source": [
    "### Prior Work"
   ]
  },
  {
   "cell_type": "markdown",
   "metadata": {},
   "source": [
    "#### Filterbank Network\n"
   ]
  },
  {
   "cell_type": "markdown",
   "metadata": {},
   "source": [
    "In a master thesis, we developed a network that closely mimics the processing steps of filter bank common spatial patterns"
   ]
  },
  {
   "cell_type": "markdown",
   "metadata": {},
   "source": []
  },
  {
   "cell_type": "markdown",
   "metadata": {},
   "source": []
  },
  {
   "cell_type": "markdown",
   "metadata": {},
   "source": [
    "### Shallow Network"
   ]
  },
  {
   "cell_type": "code",
   "execution_count": null,
   "metadata": {},
   "outputs": [],
   "source": []
  },
  {
   "cell_type": "markdown",
   "metadata": {},
   "source": [
    "### Deep Network"
   ]
  },
  {
   "cell_type": "markdown",
   "metadata": {},
   "source": [
    "### FBCSP Baseline"
   ]
  },
  {
   "cell_type": "markdown",
   "metadata": {
    "jp-MarkdownHeadingCollapsed": true,
    "tags": []
   },
   "source": [
    "## Cropped Training"
   ]
  },
  {
   "cell_type": "markdown",
   "metadata": {
    "tags": []
   },
   "source": [
    "## Design Choices"
   ]
  },
  {
   "cell_type": "markdown",
   "metadata": {
    "tags": []
   },
   "source": [
    "## Results\n",
    "\n",
    "### FBCSP Network\n",
    "check master thesis\n",
    "explain why not checked further\n",
    "(OR JUST DO IT?)"
   ]
  },
  {
   "cell_type": "markdown",
   "metadata": {},
   "source": [
    "### Shallow And Deep Results"
   ]
  },
  {
   "cell_type": "markdown",
   "metadata": {},
   "source": [
    "as in paper"
   ]
  },
  {
   "cell_type": "markdown",
   "metadata": {
    "jp-MarkdownHeadingCollapsed": true,
    "tags": []
   },
   "source": [
    "## Design Choices etc."
   ]
  },
  {
   "cell_type": "markdown",
   "metadata": {
    "jp-MarkdownHeadingCollapsed": true,
    "tags": []
   },
   "source": [
    "## visualizations\n",
    "\n",
    "* check what is actually used?\n",
    "* precise definition difficult\n",
    "\n",
    "* also note extra results on other datasets and why and also mention further papers task related\n",
    "\n",
    "* possibly comparison with current state"
   ]
  },
  {
   "cell_type": "markdown",
   "metadata": {},
   "source": [
    "## old - merge"
   ]
  },
  {
   "cell_type": "markdown",
   "metadata": {},
   "source": [
    "* unclear how good deep learning can be for task-related activity\n",
    "* important benchmark as many decode on this\n",
    "* our approach to evaluate\n",
    "* our benchmark method (copy FBCSP text)\n",
    "* "
   ]
  },
  {
   "cell_type": "markdown",
   "metadata": {},
   "source": []
  }
 ],
 "metadata": {
  "kernelspec": {
   "display_name": "Python 3 (ipykernel)",
   "language": "python",
   "name": "python3"
  },
  "language_info": {
   "codemirror_mode": {
    "name": "ipython",
    "version": 3
   },
   "file_extension": ".py",
   "mimetype": "text/x-python",
   "name": "python",
   "nbconvert_exporter": "python",
   "pygments_lexer": "ipython3",
   "version": "3.9.7"
  }
 },
 "nbformat": 4,
 "nbformat_minor": 4
}
